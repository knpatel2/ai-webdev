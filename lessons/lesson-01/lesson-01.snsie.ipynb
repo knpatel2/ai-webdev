{
  "metadata": {
    "kernelspec": {
      "language": "python",
      "display_name": "Python 3",
      "name": "python3"
    },
    "language_info": {
      "name": "python",
      "version": "3.7.12",
      "mimetype": "text/x-python",
      "codemirror_mode": {
        "name": "ipython",
        "version": 3
      },
      "pygments_lexer": "ipython3",
      "nbconvert_exporter": "python",
      "file_extension": ".py"
    },
    "colab": {
      "name": "lesson-01.snsie.ipynb",
      "provenance": []
    }
  },
  "nbformat_minor": 0,
  "nbformat": 4,
  "cells": [
    {
      "cell_type": "markdown",
      "source": [
        "<center><h1>AI in Web Development</h1></center>\n",
        "\n",
        "---\n",
        "\n",
        "<center><h2>Lesson 01</h2></center>\n",
        "\n",
        "\n",
        "[![Open In Colab](https://colab.research.google.com/assets/colab-badge.svg)](https://colab.research.google.com/github/snsie/ai-webdev/blob/main/lessons/lesson-01/lesson-01.snsie.ipynb)\n",
        "#Course Goals:\n",
        "\n",
        "- Languages:\n",
        "  - Python\n",
        "  - Bash\n",
        "  - JavaScript\n",
        "  - TypeScript\n",
        "  - HTML\n",
        "  - CSS\n",
        "- Version Control: \n",
        "  - GitHub\n",
        "- Deep Learning Libraries\n",
        " - Keras\n",
        " - PyTorch\n",
        " - TensorFlow\n",
        "- JavaScript Libraries\n",
        " - React\n",
        " - Threejs\n",
        "\n"
      ],
      "metadata": {
        "id": "TQw5mp55gVz5"
      }
    },
    {
      "cell_type": "markdown",
      "source": [
        "\n",
        "<h1 align='center'>Create Github Account</h1>\n",
        "<center><a href='https://github.com/'>GitHub Website</a></center>\n",
        "\n",
        "---"
      ],
      "metadata": {
        "id": "7RcgysEg9jV7"
      }
    },
    {
      "cell_type": "markdown",
      "source": [
        "\n",
        "<h1 align='center'>Fork Github Repository</h1>\n",
        "\n",
        "<center><a href='https://github.com/snsie/ai-webdev'>ai-webdev repository</a>\n",
        "<br/></center>\n",
        "\n",
        "---\n",
        "\n",
        "<br/>\n",
        "<center><img src=\"https://github.com/snsie/ai-webdev/raw/main/images/fork_button.png\" alt=\"fork button image\" /></center>\n",
        "\n",
        "\n",
        "<a href=\"https://docs.github.com/en/get-started/quickstart/fork-a-repo\">Repo Forking QuickStart</a>\n"
      ],
      "metadata": {
        "id": "1mZIwKog5_FJ"
      }
    },
    {
      "cell_type": "markdown",
      "source": [
        "additional steps for each lesson:\n",
        "1. Navigate to lesson-01.ipynb and open the file\n",
        "2. Click the two square icon to copy the raw contents of the file\n",
        "3. Click on the lesson-01 folder and then the \"Add File\" dropdown button\n",
        "4. Select the option to create a new file and set the file name to lesson-01.yourGithubName.ipynb\n",
        "5. Paste the raw contents you copied into the new file\n",
        "6. Change the colab->name to lesson-01.yourGithubName.ipynb\n",
        "7. Change the url in the colab fiile link so that it matches the path to your notebook\n",
        "8. Send that path to the instructors\n"
      ],
      "metadata": {
        "id": "NiW1--7N9ps8"
      }
    },
    {
      "cell_type": "markdown",
      "source": [
        "\n",
        "<h1 align='center'>Connect either <a href=\"https://colab.research.google.com/\">Google Colab</a> or <a href=\"https://www.kaggle.com/\">Kaggle</a> to GitHub</h1>\n",
        "\n",
        "<br/>\n",
        "\n",
        "- [Connecting Colab to GitHub](https://colab.research.google.com/github/googlecolab/colabtools/blob/master/notebooks/colab-github-demo.ipynb)\n",
        "\n",
        "- [Connecting Kaggle to GitHub](https://www.kaggle.com/product-feedback/295170)"
      ],
      "metadata": {
        "id": "SrUWnSeTvvMx"
      }
    },
    {
      "cell_type": "markdown",
      "source": [
        "<h1 align='center'>Biological Neuron</h1>\n",
        "\n",
        "---\n",
        "\n",
        "<br/>\n",
        "<center><img  src=\"https://github.com/snsie/ai-webdev/raw/main/images/biological-neuron.png\" alt='biological neuron'/></center>\n",
        "\n",
        "\n"
      ],
      "metadata": {
        "id": "wQJrduyGKPX5"
      }
    },
    {
      "cell_type": "markdown",
      "source": [
        "#<center> Perceptron\n",
        "\n",
        "---\n",
        "\n",
        "<br/>\n",
        "<center><img  src=\"https://github.com/snsie/ai-webdev/blob/main/images/perceptron.png?raw=true\" alt='biological neuron'/></center>\n"
      ],
      "metadata": {
        "id": "pqILePI_Onpk"
      }
    },
    {
      "cell_type": "markdown",
      "source": [
        "#Activation Functions\n",
        "<img src=\"https://github.com/snsie/ai-webdev/blob/main/images/activation_functions.png?raw=true\"/>\n",
        "<center><a href=\"https://en.wikipedia.org/wiki/Activation_function\">Wiki Page</a></center>"
      ],
      "metadata": {
        "id": "1ejIFLF5pMYd"
      }
    },
    {
      "cell_type": "markdown",
      "source": [
        "# Open TensorFlow's <a href='https://playground.tensorflow.org/#activation=linear&batchSize=10&dataset=gauss&regDataset=reg-plane&learningRate=0.03&regularizationRate=0&noise=0&networkShape=1&seed=3.17465&showTestData=false&discretize=false&percTrainData=50&x=true&y=true&xTimesY=false&xSquared=false&ySquared=false&cosX=false&sinX=false&cosY=false&sinY=false&collectStats=false&problem=classification&initZero=false&hideText=false'>Neural Network Playground</a>\n",
        "\n",
        "---"
      ],
      "metadata": {
        "id": "7h1hPFYc_VwC"
      }
    },
    {
      "cell_type": "code",
      "source": [
        "# We will use the libraries below to create and visualize the activation functions\n",
        "import numpy as np\n",
        "import matplotlib.pyplot as plt"
      ],
      "metadata": {
        "id": "JKa--VxTuWBO"
      },
      "execution_count": 2,
      "outputs": []
    },
    {
      "cell_type": "code",
      "source": [
        "# create the identity activation function\n",
        "def linear(x):\n",
        "  return x\n",
        "test=2\n",
        "linear(test)"
      ],
      "metadata": {
        "id": "EKuzfCDGvtOR",
        "colab": {
          "base_uri": "https://localhost:8080/"
        },
        "outputId": "19d728e0-a0a9-4bfa-a9a7-9419110fff53"
      },
      "execution_count": 3,
      "outputs": [
        {
          "output_type": "execute_result",
          "data": {
            "text/plain": [
              "2"
            ]
          },
          "metadata": {},
          "execution_count": 3
        }
      ]
    },
    {
      "cell_type": "code",
      "source": [
        "# create a function to plot the identity activation function\n",
        "\n",
        "# helpful function to generate an array of evenly spaced numbers\n",
        "# https://numpy.org/doc/stable/reference/generated/numpy.linspace.html \n",
        "\n",
        "def plotFn(actfn,bounds=[-2,2]):\n",
        "  xArray=np.linspace(bounds[0],bounds[1],100)\n",
        "  y=[]\n",
        "  for currX in xArray:\n",
        "    y.append(actfn(currX))\n",
        "  plt.plot(xArray,y)\n",
        "  plt.show()\n",
        "\n",
        "  # for currx in xArray:\n",
        "\n",
        "plotFn(linear)"
      ],
      "metadata": {
        "id": "7rdPy1zTP2yZ",
        "colab": {
          "base_uri": "https://localhost:8080/",
          "height": 265
        },
        "outputId": "3921e13a-8638-412c-8df4-01370d55069c"
      },
      "execution_count": 4,
      "outputs": [
        {
          "output_type": "display_data",
          "data": {
            "text/plain": [
              "<Figure size 432x288 with 1 Axes>"
            ],
            "image/png": "[encoded data removed]"
          },
          "metadata": {
            "needs_background": "light"
          }
        }
      ]
    },
    {
      "cell_type": "code",
      "source": [
        "# create function to plot the output of the first network\n",
        "\n",
        "def getNetOut(input=[3,3]):\n",
        "  input.append(1)\n",
        "  weights=[0.82,0.58,.02]\n",
        "  output=linear(np.dot(input,weights))\n",
        "  output*=0.98\n",
        "  return output\n",
        "\n",
        "getNetOut()"
      ],
      "metadata": {
        "id": "P89xHBNbegQr",
        "colab": {
          "base_uri": "https://localhost:8080/"
        },
        "outputId": "81b34cbc-68b7-432e-a0e2-021303aac6f0"
      },
      "execution_count": 5,
      "outputs": [
        {
          "output_type": "execute_result",
          "data": {
            "text/plain": [
              "4.135599999999998"
            ]
          },
          "metadata": {},
          "execution_count": 5
        }
      ]
    },
    {
      "cell_type": "code",
      "source": [
        "# create the sigmoid activation function\n",
        "def sigmoid(x):\n",
        "  return 1/(1+np.exp(-x))"
      ],
      "metadata": {
        "id": "-hBl0XvKwFkH"
      },
      "execution_count": 6,
      "outputs": []
    },
    {
      "cell_type": "code",
      "source": [
        "# plot the sigmoid activation function\n",
        "plotFn(sigmoid)"
      ],
      "metadata": {
        "id": "DyGa-WjknRLd",
        "colab": {
          "base_uri": "https://localhost:8080/",
          "height": 265
        },
        "outputId": "4591cc24-d15e-4706-b3a1-0d0a2c1265fc"
      },
      "execution_count": 7,
      "outputs": [
        {
          "output_type": "display_data",
          "data": {
            "text/plain": [
              "<Figure size 432x288 with 1 Axes>"
            ],
            "image/png": "[encoded data removed]"
          },
          "metadata": {
            "needs_background": "light"
          }
        }
      ]
    },
    {
      "cell_type": "markdown",
      "source": [
        "# <center><a href='https://playground.tensorflow.org/#activation=linear&batchSize=10&dataset=xor&regDataset=reg-plane&learningRate=0.03&regularizationRate=0&noise=0&networkShape=8&seed=0.44328&showTestData=false&discretize=false&percTrainData=50&x=true&y=true&xTimesY=false&xSquared=false&ySquared=false&cosX=false&sinX=false&cosY=false&sinY=false&collectStats=false&problem=classification&initZero=false&hideText=false'>XOR Problem</a></center>\n",
        "\n",
        "---\n"
      ],
      "metadata": {
        "id": "ZlofRDo4n6of"
      }
    },
    {
      "cell_type": "code",
      "source": [
        "# create the tanh activation function\n",
        "def tanh(x):\n",
        "  return (np.exp(x)-np.exp(-x))/(np.exp(x)+np.exp(-x))\n",
        "\n",
        "tanh(3)  "
      ],
      "metadata": {
        "id": "l4dCjajFxiEr",
        "colab": {
          "base_uri": "https://localhost:8080/"
        },
        "outputId": "c17b21fe-1abe-41cb-929b-f9a3d798d8b9"
      },
      "execution_count": 8,
      "outputs": [
        {
          "output_type": "execute_result",
          "data": {
            "text/plain": [
              "0.9950547536867306"
            ]
          },
          "metadata": {},
          "execution_count": 8
        }
      ]
    },
    {
      "cell_type": "code",
      "source": [
        "# plot the tanh activation function\n",
        "plotFn(tanh)"
      ],
      "metadata": {
        "id": "zg8onXaFr0Zd",
        "colab": {
          "base_uri": "https://localhost:8080/",
          "height": 265
        },
        "outputId": "c3adc984-0334-4798-c1e4-def5eb132062"
      },
      "execution_count": 9,
      "outputs": [
        {
          "output_type": "display_data",
          "data": {
            "text/plain": [
              "<Figure size 432x288 with 1 Axes>"
            ],
            "image/png": "[encoded data removed]"
          },
          "metadata": {
            "needs_background": "light"
          }
        }
      ]
    },
    {
      "cell_type": "markdown",
      "source": [
        "# <center><a href='https://playground.tensorflow.org/#activation=sigmoid&batchSize=10&dataset=circle&regDataset=reg-plane&learningRate=0.03&regularizationRate=0&noise=0&networkShape=8&seed=0.48066&showTestData=false&discretize=false&percTrainData=50&x=true&y=true&xTimesY=false&xSquared=false&ySquared=false&cosX=false&sinX=false&cosY=false&sinY=false&collectStats=false&problem=classification&initZero=false&hideText=false'>Circle Problem</a></center>\n",
        "\n",
        "---\n"
      ],
      "metadata": {
        "id": "SuUlvxOMsIgC"
      }
    },
    {
      "cell_type": "code",
      "source": [
        "# create the relu activation function\n",
        "def relu(x):\n",
        "  if x<=0:\n",
        "    return 0\n",
        "  return x"
      ],
      "metadata": {
        "id": "qmRecrGZxiLp"
      },
      "execution_count": 10,
      "outputs": []
    },
    {
      "cell_type": "code",
      "source": [
        "# plot the relu activation function\n",
        "plotFn(relu)"
      ],
      "metadata": {
        "id": "rF7kG6gOuD22",
        "colab": {
          "base_uri": "https://localhost:8080/",
          "height": 265
        },
        "outputId": "13526ac4-0a5c-4a60-ed89-e66bd5110e3b"
      },
      "execution_count": 11,
      "outputs": [
        {
          "output_type": "display_data",
          "data": {
            "text/plain": [
              "<Figure size 432x288 with 1 Axes>"
            ],
            "image/png": "[encoded data removed]"
          },
          "metadata": {
            "needs_background": "light"
          }
        }
      ]
    },
    {
      "cell_type": "markdown",
      "source": [
        "# <center><a href='https://playground.tensorflow.org/#activation=tanh&batchSize=10&dataset=spiral&regDataset=reg-plane&learningRate=0.03&regularizationRate=0&noise=0&networkShape=8&seed=0.45370&showTestData=false&discretize=false&percTrainData=80&x=true&y=true&xTimesY=false&xSquared=false&ySquared=false&cosX=false&sinX=false&cosY=false&sinY=false&collectStats=false&problem=classification&initZero=false&hideText=false'>Spiral Problem</a></center>\n",
        "\n",
        "---"
      ],
      "metadata": {
        "id": "yXcZzwaXwbvm"
      }
    },
    {
      "cell_type": "code",
      "source": [
        "# create function that plots activation function outputs\n",
        "actFnArr=[linear,tanh,sigmoid,tanh]\n",
        "\n",
        "def plotActFns(actFns):\n",
        "  for currFn in actFns:\n",
        "    y=[]\n",
        "    x=np.linspace(-3,3,100)\n",
        "    for currX in x:\n",
        "      y.append(currFn(currX))\n",
        "    plt.plot(x,y,label=currFn.__name__)\n",
        "  plt.legend()\n",
        "  plt.grid()\n",
        "  plt.show()\n",
        "\n",
        "plotActFns(actFnArr)"
      ],
      "metadata": {
        "id": "OkqIvEbFuvNI",
        "outputId": "18334f97-8ec9-46e2-c5e2-8096f3a1f35b",
        "colab": {
          "base_uri": "https://localhost:8080/",
          "height": 265
        }
      },
      "execution_count": 14,
      "outputs": [
        {
          "output_type": "display_data",
          "data": {
            "text/plain": [
              "<Figure size 432x288 with 1 Axes>"
            ],
            "image/png": "[encoded data removed]"
          },
          "metadata": {
            "needs_background": "light"
          }
        }
      ]
    },
    {
      "cell_type": "markdown",
      "source": [
        "<h1 align='center'>Optional Software</h1>\n",
        "\n",
        "<h5 align='left'>The software listed below will allow you to run the scripts you write on your own hardware. Setting up this software won't be required for this course, but would be beneficial for future projects.</h5>\n",
        "\n",
        "---\n",
        "\n",
        "<ol>\n",
        "<h3><li>Download Google Chrome</li></h3>\n",
        "<ul><li><a href=\"https://www.google.com/chrome/downloads/\">Visual Studeo Code</a></li>\n",
        "</ul>\n",
        "<h3><li>Download Visual Studio Code</li></h3>\n",
        "<ul><li><a href=\"https://code.visualstudio.com/Download\">Visual Studeo Code</a></li>\n",
        "</ul>\n",
        "\n",
        "<h3><li>Download the following vscode extensions</li></h3>\n",
        "<ul>\n",
        "<li><a href='https://marketplace.visualstudio.com/items?itemName=ms-python.python'>Python</a></li>\n",
        "<li><a href=\"https://marketplace.visualstudio.com/items?itemName=ms-toolsai.jupyter\">Jupyter Notebooks</a></li>\n",
        "<li><a href=\"https://marketplace.visualstudio.com/items?itemName=VisualStudioExptTeam.vscodeintellicode\">IntelliCode</a></li>\n",
        "<li><a href='https://marketplace.visualstudio.com/items?itemName=alefragnani.project-manager'=>project-manager</a></li>\n",
        "</ul>\n",
        "<h3><li>Download Miniconda</li></h3>\n",
        "<ul><li><a href='https://docs.conda.io/en/latest/miniconda.html'>Miniconda</a></li></ul>\n",
        "<h3><li>Download the git command line tool</li></h3>\n",
        "<ul><li><a href='https://git-scm.com/downloads'>git command line tool </a></li></ul>\n",
        "</ol>\n",
        "\n",
        "\n",
        "\n"
      ],
      "metadata": {
        "id": "O_sRKD5M9zGC"
      }
    }
  ]
}