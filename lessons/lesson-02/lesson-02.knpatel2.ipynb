{
  "cells": [
    {
      "cell_type": "markdown",
      "metadata": {
        "id": "zxMSBUaZoKCY"
      },
      "source": [
        "<center><h1>AI in Web Development</h1></center>\n",
        "\n",
        "---\n",
        "\n",
        "<center><h2>Lesson 02</h2></center>\n",
        "\n",
        "\n",
        "[![Open In Colab](https://colab.research.google.com/assets/colab-badge.svg)](https://colab.research.google.com/github/knpatel2/ai-webdev/blob/main/lessons/lesson-02/lesson-02.knpatel2.ipynb)"
      ]
    },
    {
      "cell_type": "markdown",
      "source": [
        "##Resources used for this lesson:\n",
        "\n",
        "1. [Backpropagation Example](https://mattmazur.com/2015/03/17/a-step-by-step-backpropagation-example/)\n",
        "\n",
        "<!-- 2. [Colab Example](https://colab.research.google.com/github/casperbh96/Neural-Network-From-Scratch/blob/master/NN_From_Scratch.ipynb) -->"
      ],
      "metadata": {
        "id": "3kRHN70Go-dz"
      }
    },
    {
      "cell_type": "markdown",
      "source": [
        "<center><img src='https://github.com/snsie/ai-webdev/blob/main/images/matt_network_numbered.png?raw=true'/></center>\n",
        "\n",
        "\n",
        "<center><h3>Parameterized Network</h3></center>\n",
        "\n",
        "\n",
        "---\n",
        "\n"
      ],
      "metadata": {
        "id": "cG5HsTW21yOi"
      }
    },
    {
      "cell_type": "code",
      "source": [
        "import numpy as np"
      ],
      "metadata": {
        "id": "ZVmJgs4Hv77H"
      },
      "execution_count": 31,
      "outputs": []
    },
    {
      "cell_type": "markdown",
      "source": [
        "<br/>\n",
        "<h3>\n",
        "\\begin{align}\n",
        "\\text{Inputs: }\n",
        "\\left[\n",
        "\\begin{matrix}\n",
        "i_1 & i_2\n",
        "\\end{matrix}\n",
        "\\right]\n",
        "=\n",
        "\\left[\n",
        "\\begin{matrix}\n",
        "0.05 & 0.10\n",
        "\\end{matrix}\n",
        "\\right]\n",
        "\\end{align}\n",
        "</h3>\n",
        "\n",
        "<br/>\n",
        "\n",
        "<h3>\n",
        "\\begin{align}\n",
        "\\text{Outputs: }\n",
        "\\left[\n",
        "\\begin{matrix}\n",
        "o_1 & o_2\n",
        "\\end{matrix}\n",
        "\\right]\n",
        "=\n",
        "\\left[\n",
        "\\begin{matrix}\n",
        "0.01 & 0.99\n",
        "\\end{matrix}\n",
        "\\right]\n",
        "\\end{align}\n",
        "</h3>\n",
        "\n",
        "<br/>\n",
        "\n",
        "<h3>\n",
        "\\begin{align}\n",
        "\\text{Learning Rate: } 0.5\n",
        "\\end{align}\n",
        "</h3>\n",
        "\n",
        "<br/>"
      ],
      "metadata": {
        "id": "y9oUQdHtGox_"
      }
    },
    {
      "cell_type": "code",
      "source": [
        "# create inputs array\n",
        "inputs=[0.05,0.1]\n",
        "\n",
        "# create outputs array\n",
        "outputs=[0.01,0.99]\n",
        "\n",
        "# create learning rate\n",
        "lr=0.5"
      ],
      "metadata": {
        "id": "YBmMGvnrv_70"
      },
      "execution_count": 32,
      "outputs": []
    },
    {
      "cell_type": "markdown",
      "source": [
        "\n",
        "<br/>\n",
        "\n",
        "<h3>\n",
        "\\begin{align}\n",
        "\\text{Weights to Hidden Layer: }\n",
        "\\left[\n",
        "\\begin{matrix}\n",
        "w_1 & w_3 \\\\\n",
        "w_2 & w_4 \\\\\n",
        "w_{h_1} & w_{h_2}\n",
        "\\end{matrix}\n",
        "\\right]\n",
        "=\n",
        "\\left[\n",
        "\\begin{matrix}\n",
        "0.15 & 0.25 \\\\\n",
        "0.2 & 0.3 \\\\\n",
        "0.35 & 0.35\n",
        "\\end{matrix}\n",
        "\\right]\n",
        "\\end{align}\n",
        "</h3>\n",
        "\n",
        "<br/>\n",
        "\n",
        "<h3>\n",
        "\\begin{align}\n",
        "\\text{Weights to Output Layer: }\n",
        "\\left[\n",
        "\\begin{matrix}\n",
        "w_5 & w_7 \\\\\n",
        "w_6 & w_8 \\\\\n",
        "w_{h_1} & w_{h_2}\n",
        "\\end{matrix}\n",
        "\\right]\n",
        "=\n",
        "\\left[\n",
        "\\begin{matrix}\n",
        "0.4 & 0.5 \\\\\n",
        "0.45 & 0.55 \\\\\n",
        "0.6 & 0.6\n",
        "\\end{matrix}\n",
        "\\right]\n",
        "\\end{align}\n",
        "</h3>\n",
        "\n",
        "<br/>\n"
      ],
      "metadata": {
        "id": "U73jW5r4YrBj"
      }
    },
    {
      "cell_type": "code",
      "source": [
        "# create input -> hidden layer weight matrix\n",
        "weightsToHl=np.array([[.15,0.25],[0.2,0.3],[0.35,0.35]])\n",
        "\n",
        "# create hidden layer -> output layer weight matrix\n",
        "weightsToOl=np.array([[.4,0.5],[0.45,0.55],[0.6,0.6]])"
      ],
      "metadata": {
        "id": "no2FMpTBZVxL"
      },
      "execution_count": 33,
      "outputs": []
    },
    {
      "cell_type": "markdown",
      "source": [
        "<h2 align='center'>Sigmoid Activation Function</h2>\n",
        "<h3>\n",
        "$$\n",
        "\\large f(x)=\\frac{1}{1+e^{-x}}\n",
        "$$\n",
        "</h3>\n",
        "\n",
        "<br/>\n",
        "\n",
        "<h3>\n",
        "$$\n",
        "\\large \\frac{df}{dx}=f(x) \\cdot (1-f(x))\n",
        "$$\n",
        "</h3>\n",
        "\n",
        "\n",
        "\n"
      ],
      "metadata": {
        "id": "kPh0LIK2a1ZV"
      }
    },
    {
      "cell_type": "code",
      "source": [
        "# create the sigmoid activation function\n",
        "def sigmoid(x,derivative=False):\n",
        "  if derivative:\n",
        "    return x*(1-x)\n",
        "  return 1/(1+np.exp(-x))"
      ],
      "metadata": {
        "id": "jKoMQHQfa5uc"
      },
      "execution_count": 34,
      "outputs": []
    },
    {
      "cell_type": "markdown",
      "source": [
        "<h1 align=\"center\">Forward Pass</h1>\n",
        "\n",
        "<br/>\n",
        "\n",
        "---"
      ],
      "metadata": {
        "id": "7EWjWOI03WS0"
      }
    },
    {
      "cell_type": "markdown",
      "source": [
        "<h2 align='center'>Hidden Layer Outputs</h2>\n",
        "\n",
        "<br/>\n",
        "\n",
        "<h3>\n",
        "\\begin{align}\n",
        "\\left[\n",
        "\\begin{matrix}\n",
        "h_{1_{net}} & h_{2_{net}}\n",
        "\\end{matrix} \n",
        "\\right]\n",
        "=\n",
        "\\left[\n",
        "\\begin{matrix}\n",
        "i_1 & i_2 & b_1 \n",
        "\\end{matrix} \n",
        "\\right]\n",
        "\\cdot\n",
        "\\left[\n",
        "\\begin{matrix}\n",
        "w_1 & w_3 \\\\\n",
        "w_2 & w_4 \\\\\n",
        "w_{bh_1} & w_{bh_2} \n",
        "\\end{matrix} \n",
        "\\right]\n",
        "\\end{align}\n",
        "</h3>\n",
        "\n",
        "<br/>\n",
        "\n",
        "<h3>\n",
        "\\begin{align}\n",
        "\\left[ \n",
        "\\begin{matrix}\n",
        "h_{1_{out}} & h_{2_{out}}\n",
        "\\end{matrix}\n",
        "\\right]\n",
        "=\n",
        "\\left[\n",
        "\\begin{matrix}\n",
        "f(h_{1_{net}}) & f(h_{2_{net}})\n",
        "\\end{matrix}\n",
        "\\right]\n",
        "\\end{align}\n",
        "</h3>\n",
        "\n",
        "<br/>\n",
        "\n",
        "---"
      ],
      "metadata": {
        "id": "eg7HJB4ytvps"
      }
    },
    {
      "cell_type": "markdown",
      "source": [
        "<h3>\n",
        "$$ h_{1_{net}} = i_1 w_1 + i_2 w_2 + b_1 w_{bh_1} $$\n",
        "</h3>\n",
        "<h3>\n",
        "$$ h_{2_{net}} = i_1 w_3 + i_2 w_4 + b_1 w_{bh_2} $$\n",
        "</h3>\n",
        "<br/>\n",
        "<h4>$$ h_1 = h_{1_{out}} = f(h_{1_{net}}) = f(i_1 w_1 + i_2 w_2 + b_1 w_{bh_1}) $$</h4>\n",
        "<h4>$$ h_2 = h_{2_{out}} = f(h_{2_{net}}) = f(i_1 w_3 + i_2 w_4 + b_1 w_{bh_2}) $$</h4>"
      ],
      "metadata": {
        "id": "9Oc8_V4yFGul"
      }
    },
    {
      "cell_type": "code",
      "source": [
        "# create a function to calculate the hidden layer outputs\n",
        "def getHlOutputs(inputs=inputs,weightsToHl=weightsToHl):\n",
        "  inputsWithBias = np.array([*inputs,1])\n",
        "  #multiply 1x3 input array with 3x2 weights array\n",
        "  netHl = inputsWithBias @ weightsToHl\n",
        "  return sigmoid(x=netHl,derivative=False)"
      ],
      "metadata": {
        "id": "gIpnSoYBrVc3"
      },
      "execution_count": 35,
      "outputs": []
    },
    {
      "cell_type": "markdown",
      "source": [
        "<h2 align='center'>Output Layer Outputs</h2>\n",
        "<br/>\n",
        "\n",
        "<h3>\n",
        "$$\n",
        "\\left[ \\begin{matrix} o_{1_{net}} & o_{2_{net}} \\end{matrix} \\right]\n",
        "=\n",
        "\\left[ \\begin{matrix} h_1 & h_2 & b \\end{matrix} \\right]\n",
        "\\cdot\n",
        "\\left[ \\begin{matrix} w_5 & w_7 \\\\ w_6 & w_8 \\\\ w_{bo_1} & w_{bo_2} \\end{matrix} \\right]\n",
        "$$\n",
        "</h3>\n",
        "\n",
        "<h3>\n",
        "$$\n",
        "\\left[ \\begin{matrix} o_{1_{out}} & o_{2_{out}} \\end{matrix} \\right]\n",
        "=\n",
        "\\left[ \\begin{matrix} f(o_{1_{net}}) & f(o_{2_{net}}) \\end{matrix} \\right]\n",
        "$$\n",
        "</h3>\n",
        "\n",
        "<br/>\n",
        "\n",
        "---"
      ],
      "metadata": {
        "id": "Qw7w7dS4BqNL"
      }
    },
    {
      "cell_type": "markdown",
      "source": [
        "<h3>\n",
        "$$ o_{1_{net}} = h_1 w_5 + h_2 w_6 + b_2 w_{bo_1} $$\n",
        "</h3>\n",
        "<h4>$$ o_1 = o_{1_{out}} = g(o_{1_{net}}) = g(h_1 w_5 + h_2 w_6 + b_2 w_{bo_1}) $$</h4>\n",
        "\n",
        "<h5>$$ o_1 = g \\begin{pmatrix}f(i_1 w_1 + i_2 w_2 + b_1 w_{bh_1}) w_5 \\ + \\ \\\\\n",
        " f(i_1 w_3 + i_2 w_4 + b_1 w_{bh_2}) w_6 \\ + \\ \\\\\n",
        " b_2 w_{bo_1} \\end{pmatrix} $$</h5>\n",
        "<br/>\n",
        "\n",
        "---"
      ],
      "metadata": {
        "id": "gjyxj9tXmhWQ"
      }
    },
    {
      "cell_type": "markdown",
      "source": [
        "<h3>\n",
        "$$ o_{2_{net}} = h_1 w_7 + h_2 w_8 + b_2 w_{bo_2} $$\n",
        "</h3>\n",
        "\n",
        "<h4>$$ o_2 = o_{2_{out}} = g(o_{2_{net}}) = g(h_1 w_7 + h_2 w_8 + b_2 w_{bo_2}) $$</h4>\n",
        "\n",
        "<h5>$$ o_1 = g \\begin{pmatrix}f(i_1 w_1 + i_2 w_2 + b_1 w_{bh_1}) w_7 \\ + \\ \\\\\n",
        " f(i_1 w_3 + i_2 w_4 + b_1 w_{bh_2}) w_8 \\ + \\ \\\\\n",
        " b_2 w_{bo_2} \\end{pmatrix} $$</h5>"
      ],
      "metadata": {
        "id": "6qwuMOV7m3fq"
      }
    },
    {
      "cell_type": "code",
      "source": [
        "# create a function to calculate the outputs of the network\n",
        "def getNetOutputs(weightsToOl=weightsToOl):\n",
        "  hlOutputs=getHlOutputs()\n",
        "  hlOutputsWithBias=np.array([*hlOutputs,1])\n",
        "  netOl= hlOutputsWithBias @ weightsToOl\n",
        "  return sigmoid(x=netOl,derivative=False)"
      ],
      "metadata": {
        "id": "GCa4F-fFnMwm"
      },
      "execution_count": 36,
      "outputs": []
    },
    {
      "cell_type": "code",
      "source": [
        "# combine the forward pass functions to create a reusable class\n",
        "class NeuralNetworkForwardPass():\n",
        "  \"\"\"\n",
        "  computes single forward step of neural network\n",
        "  \"\"\"\n",
        "  def __init__(self,inputs,outputs):\n",
        "    self.inputs = inputs\n",
        "    self.inputsWithBias = np.array([*self.inputs,1])\n",
        "    self.outputs = outputs\n",
        "    self.weightsToHl=np.array([[.15,0.25],[0.2,0.3],[0.35,0.35]])\n",
        "    self.weightsToOl=np.array([[.4,0.5],[0.45,0.55],[0.6,0.6]])\n",
        "\n",
        "  ### Example uses the sigmoid activation function for all layers\n",
        "  def sigmoid(self,x,derivative=False):\n",
        "    if derivative:\n",
        "      return x*(1-x)\n",
        "    return 1/(1+np.exp(-x))\n",
        "\n",
        "  def getHlOutputs(self):\n",
        "    self.inputsWithBias = np.array([*self.inputs,1])\n",
        "    #multiply 1x3 input array with 3x2 weights array\n",
        "    netHl = self.inputsWithBias @ self.weightsToHl\n",
        "    return self.sigmoid(x=netHl,derivative=False)\n",
        "\n",
        "  def forwardPass(self):\n",
        "    hlOutputs=self.getHlOutputs()\n",
        "    self.hlOutputsWithBias=np.array([*hlOutputs,1])\n",
        "    netOl= self.hlOutputsWithBias @ self.weightsToOl\n",
        "    return self.sigmoid(x=netOl,derivative=False)"
      ],
      "metadata": {
        "id": "96p-fmth7Njn"
      },
      "execution_count": 37,
      "outputs": []
    },
    {
      "cell_type": "markdown",
      "source": [
        "<h1 align=\"center\">Backward Pass</h1>\n",
        "\n",
        "<br/>\n",
        "\n",
        "---"
      ],
      "metadata": {
        "id": "1EfVQScg3n6x"
      }
    },
    {
      "cell_type": "markdown",
      "source": [
        "<h3 align='center'>Follows the Chain Rule:</h3>\n",
        "\n",
        "\\begin{align}\n",
        "\\frac{\\partial x}{\\partial y}=\\frac{\\partial x}{\\partial u}\\frac{\\partial u}{\\partial y}\n",
        "\\end{align}\n",
        "\n",
        "<br/>\n",
        "\n",
        "<center><img src='https://github.com/snsie/ai-webdev/blob/main/images/matt_backward_output_node.png?raw=true'/></center>\n",
        "\n",
        "<br/>\n",
        "\n",
        "---\n",
        "\n",
        "<br/>\n",
        "\n",
        "<center><img src='https://github.com/snsie/ai-webdev/blob/main/images/matt_backward_network.png?raw=true'/></center>\n",
        "\n",
        "<br/>\n"
      ],
      "metadata": {
        "id": "ss57opkgFhzD"
      }
    },
    {
      "cell_type": "markdown",
      "source": [
        "<h3 align='center'>Equation to calculate new weights</h3>\n",
        "<br/>\n",
        "\n",
        "\\begin{align}\n",
        "w_{t+1} =w_t - \\eta\\;\\cdot\\;\\frac{\\partial E_{total}}{\\partial w_t} \n",
        "\\end{align}\n",
        "<br/>\n"
      ],
      "metadata": {
        "id": "ZVC5728kRX7U"
      }
    },
    {
      "cell_type": "code",
      "source": [
        "# create class instance and get forward pass predictions\n",
        "network=NeuralNetworkForwardPass(inputs,outputs)\n",
        "\n",
        "netOutputs=network.forwardPass()\n",
        "hlOutputs=network.getHlOutputs()"
      ],
      "metadata": {
        "id": "tQKGnGNI4AiW"
      },
      "execution_count": 38,
      "outputs": []
    },
    {
      "cell_type": "markdown",
      "source": [
        "\\begin{align}\n",
        "E_{total} =\\frac{1}{2} \\sum_{i=1}^{n} (target_{o_i} - predicted_{o_i})^2\n",
        "\\end{align}\n",
        "\n",
        "<br/>\n",
        "\n",
        "---\n",
        "\n",
        "<br/>\n",
        "\n",
        "\\begin{align}\n",
        "\\frac{\\partial E}{\\partial o_i} =(predicted_{o_i} - target_{o_i})\n",
        "\\end{align}\n"
      ],
      "metadata": {
        "id": "QOG5SuTE6Fup"
      }
    },
    {
      "cell_type": "code",
      "source": [
        "def get_dE_dOlOut(predOutputs,targets):\n",
        "    return predOutputs-targets"
      ],
      "metadata": {
        "id": "oPM5bYO2DFfr"
      },
      "execution_count": 40,
      "outputs": []
    },
    {
      "cell_type": "code",
      "source": [
        "class NeuralNet(NeuralNetworkForwardPass):\n",
        "    \"\"\"\n",
        "    updates weights via backpropagation\n",
        "    \"\"\"\n",
        "    def __init__(self,inputs,outputs, lr):\n",
        "        super().__init__(inputs,outputs)\n",
        "        # predicted from forward pass outputs\n",
        "        self.lr=lr\n",
        "        self.hlOutputs=self.getHlOutputs()\n",
        "        self.predOutputs = self.forwardPass()\n",
        "        # print(self.predOutputs)\n",
        "    \n",
        "    # get the change in total error with respect to each ol output\n",
        "    def get_dE_dOlOut(self):\n",
        "        return self.predOutputs-self.outputs\n",
        "        \n",
        "    # get the change in each ol node with respect to the net sum into each respective ol node\n",
        "    def get_dOlOut_dOlNet(self):\n",
        "      return self.sigmoid(self.predOutputs,derivative=True)\n",
        "\n",
        "    def get_dOlNet_dWOl(self):\n",
        "      return self.hlOutputsWithBias.reshape(len(self.hlOutputsWithBias),1)\n",
        "\n",
        "    def get_dE_dOlNet(self):\n",
        "      dE_dOlOut=self.get_dE_dOlOut()\n",
        "      dOlOut_dOlNet=self.get_dOlOut_dOlNet()\n",
        "      dE_dOlNet=dE_dOlOut*dOlOut_dOlNet\n",
        "      return dE_dOlNet\n",
        "\n",
        "    def getPartialWeightsToOl(self):\n",
        "      dE_dOlNet=self.get_dE_dOlNet()\n",
        "      dE_dOlNet=dE_dOlNet.reshape(1,len(dE_dOlNet))\n",
        "\n",
        "      dOlNet_dWOl=self.get_dOlNet_dWOl()\n",
        "      return dOlNet_dWOl@dE_dOlNet\n",
        "\n",
        "    def getNextWeightsToOl(self):\n",
        "      # get_dE_dOlOut=self.get_dE_dOlOut()\n",
        "      partialWeightsToOl=self.getPartialWeightsToOl()\n",
        "      # print(self.weightsToOl.shape)\n",
        "      nextWeightsToOl=self.weightsToOl-self.lr*partialWeightsToOl\n",
        "      return nextWeightsToOl\n",
        "\n",
        "    ########## updating weights to hidden layer below\n",
        "\n",
        "    def get_dE_dHlOut(self):\n",
        "      dE_dOlNet=self.get_dE_dOlNet()\n",
        "      # print(np.size(dE_dOlNet))\n",
        "      dE_dOlNet=dE_dOlNet.reshape(np.size(dE_dOlNet),1)\n",
        "      weightsToOlWithoutBias=np.delete(self.weightsToOl,2,0)\n",
        "      dOlNet_dHlOut=weightsToOlWithoutBias\n",
        "      return dOlNet_dHlOut@dE_dOlNet\n",
        "    \n",
        "    def get_dHlOut_dHlNet(self):\n",
        "      return self.sigmoid(self.hlOutputs,derivative=True)\n",
        "\n",
        "    def get_dE_dHlNet(self):\n",
        "      dE_dHlOut=self.get_dE_dHlOut().flatten()\n",
        "      dHlOut_dHlNet=self.get_dHlOut_dHlNet()\n",
        "      return dE_dHlOut*dHlOut_dHlNet\n",
        "\n",
        "    def get_dHlNet_dWHl(self):\n",
        "      return self.inputsWithBias.reshape(len(self.inputsWithBias),1)\n",
        "\n",
        "    def getPartialWeightsToHl(self):\n",
        "      dE_dHlNet=self.get_dE_dHlNet()\n",
        "      dE_dHlNet=dE_dHlNet.reshape(1,len(dE_dHlNet))\n",
        "      dHlNet_dWHl=self.get_dHlNet_dWHl()\n",
        "      return dHlNet_dWHl@dE_dHlNet\n",
        "\n",
        "    def getNextWeightsToHl(self):\n",
        "      partialWeightsToHl=self.getPartialWeightsToHl()\n",
        "      nextWeightsToHl=self.weightsToHl-self.lr*partialWeightsToHl\n",
        "      return nextWeightsToHl\n",
        "\n",
        "net=NeuralNet(inputs,outputs,lr)\n",
        "net.getNextWeightsToHl()"
      ],
      "metadata": {
        "id": "LUyDjjqg8lxk"
      },
      "execution_count": null,
      "outputs": []
    }
  ],
  "metadata": {
    "kernelspec": {
      "display_name": "Python 3.9.7 64-bit",
      "language": "python",
      "name": "python3"
    },
    "language_info": {
      "name": "python",
      "version": "3.9.7"
    },
    "orig_nbformat": 4,
    "vscode": {
      "interpreter": {
        "hash": "5974ac25dc9be56ffc04c26f1dcea484687dd3721d1ee5a9c3f4a235d03fe9b9"
      }
    },
    "colab": {
      "name": "lesson-02.knpatel2.ipynb",
      "provenance": []
    }
  },
  "nbformat": 4,
  "nbformat_minor": 0
}
