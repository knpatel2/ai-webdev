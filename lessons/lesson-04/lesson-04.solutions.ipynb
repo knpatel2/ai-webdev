{
  "cells": [
    {
      "cell_type": "markdown",
      "source": [
        "<center><h1>AI in Web Development</h1></center>\n",
        "\n",
        "---\n",
        "\n",
        "<center><h2>Lesson 04</h2></center>\n",
        "\n",
        "\n",
        "[![Open In Colab](https://colab.research.google.com/assets/colab-badge.svg)](https://colab.research.google.com/github/snsie/ai-webdev/blob/main/lessons/lesson-04/lesson-04.solutions.ipynb)"
      ],
      "metadata": {
        "id": "IPgoWtoIJQOi"
      }
    },
    {
      "cell_type": "markdown",
      "source": [
        "This notebook is based on [this example](https://colab.research.google.com/github/Curt-Park/rainbow-is-all-you-need/blob/master/01.dqn.ipynb)\n",
        "and [this example](https://colab.research.google.com/github/ehennis/ReinforcementLearning/blob/master/05-DQN.ipynb#scrollTo=DPWjJiOZ2uVd)  \n"
      ],
      "metadata": {
        "id": "KPb9IjzQmKOU"
      }
    },
    {
      "cell_type": "markdown",
      "metadata": {
        "id": "Pf4_QpE72uVZ"
      },
      "source": [
        "<h1 align=\"center\">Reinforcement Learning (RL)</h1>"
      ]
    },
    {
      "cell_type": "markdown",
      "source": [
        "<center><img src=\"https://github.com/snsie/ai-webdev/blob/main/images/what-is-reinforcement-learning.png?raw=true\" width='320px'/></center>\n"
      ],
      "metadata": {
        "id": "VqGHxllEo3h7"
      }
    },
    {
      "cell_type": "markdown",
      "source": [
        "###Environment\n",
        "  * The stage that contains the simulation\n",
        "\n",
        "<br/>\n",
        "\n",
        "###Agent\n",
        "  * The entity making decisions\n",
        "  * Can be represented as a neural network\n",
        "\n",
        "<br/>\n",
        "\n",
        "###States\n",
        "* Set of observations that agents that can be performed by the agent\n",
        "* example: agent's position\n",
        "\n",
        "<br/>\n",
        "\n",
        "###Actions\n",
        "* Set of activities that can be performed by the agent\n",
        "* example: move right, move left\n",
        "\n",
        "<br/>\n",
        "\n",
        "###Rewards\n",
        "* Provides agents feedback about their performance\n"
      ],
      "metadata": {
        "id": "sdedL4816Qp5"
      }
    },
    {
      "cell_type": "markdown",
      "source": [
        "<center><h1>Cart Pole Example</h1></center>\n",
        "\n",
        "---\n",
        "\n",
        "<center><h4>the cart's goal: balance the pole</h4></center>\n",
        "\n",
        "\n",
        "[Gym Docs](https://www.gymlibrary.ml/environments/classic_control/cart_pole/)"
      ],
      "metadata": {
        "id": "P12W_YPa09UE"
      }
    },
    {
      "cell_type": "markdown",
      "source": [
        "|Bad Cart          |  Good Cart  |\n",
        "|:-------------------------:|:-------------------------:|\n",
        "| <img src='https://github.com/snsie/ai-webdev/blob/main/images/cartpole-initial.gif?raw=true' width=\"300\"/>  | <img src='https://github.com/snsie/ai-webdev/blob/main/images/cartpole-trained.gif?raw=true' width=\"300\"/> |"
      ],
      "metadata": {
        "id": "A-YYa0w41cqt"
      }
    },
    {
      "cell_type": "markdown",
      "metadata": {
        "id": "Z2Fqe9TO2uVd"
      },
      "source": [
        "<center><h3><u>Actions</u></h3></center>\n",
        "\n",
        "| Num | Action                 |\n",
        "|-----|------------------------|\n",
        "| 0   | Push cart to the left  |\n",
        "| 1   | Push cart to the right |\n",
        "\n",
        "<br/>\n",
        "<br/>\n",
        "\n",
        "<center><h3><u>States</u></h3></center>\n",
        "\n",
        "| Num | Observation           | Min                 | Max               |\n",
        "|-----|-----------------------|:-------------------|:-----------------|\n",
        "| 0   | Cart Position         | -4.8                | 4.8               |\n",
        "| 1   | Cart Velocity         | -Inf                | Inf               |\n",
        "| 2   | Pole Angle            | ~ -0.418 rad (-24°) | ~ 0.418 rad (24°) |\n",
        "| 3   | Pole Angular Velocity | -Inf                | Inf               |\n",
        "\n",
        "<br/>\n",
        "\n",
        "[Cart Pole Python File](https://github.com/openai/gym/blob/master/gym/envs/classic_control/cartpole.py)"
      ]
    },
    {
      "cell_type": "markdown",
      "source": [
        "RL Algorithm to be used in this example:\n",
        "\n",
        "<center><h1>Q-learning</h1></center>\n",
        "\n",
        "<br/>\n",
        "\n",
        "<h4>\n",
        "\\begin{align}\n",
        "Q(s,a) = r(s,a) + \\gamma \\cdot \\max_{a} Q(s',a')\n",
        "\\end{align}\n",
        "</h4>\n",
        "\n",
        "<br/>\n",
        "\n",
        "###$Q(s,a)$ = Q-value\n",
        "\n",
        "###$r(s,a)$ = reward for current action\n",
        "\n",
        "###$\\gamma$ = parameter that scales: $\\max_{a}Q(s',a')$\n",
        "\n",
        "###$\\max_{a}Q(s',a')$ = Maximum Q-value predicted in the next state \n",
        "\n",
        "<br/>\n",
        "\n",
        "---"
      ],
      "metadata": {
        "id": "u1IqACZf-7yG"
      }
    },
    {
      "cell_type": "markdown",
      "source": [
        "<h3>Long term interpretation of Q:</h3>\n",
        "<h3>\n",
        "$$\n",
        "Q(s_t,a_t) = r(t) + \\gamma \\cdot r(t+1) + \\gamma^2 \\cdot r(t+2) +  \\gamma^3 \\cdot r(t+3) \\ ...\n",
        "$$\n",
        "</h3>"
      ],
      "metadata": {
        "id": "EtMh6rUaKpep"
      }
    },
    {
      "cell_type": "markdown",
      "source": [
        "**Reference**  \n",
        "Mnih, V., Kavukcuoglu, K., Silver, D., Rusu, A. A., Veness, J., Bellemare, M. G., ... & Petersen, S. (2015). *Human-level control through deep reinforcement learning*. Nature, 518(7540), 529"
      ],
      "metadata": {
        "id": "vJM_vfH8gSf9"
      }
    },
    {
      "cell_type": "code",
      "source": [
        "import sys\n",
        "IN_COLAB = \"google.colab\" in sys.modules\n",
        "\n",
        "if IN_COLAB:\n",
        "    !apt install python-opengl\n",
        "    !apt install ffmpeg\n",
        "    !apt install xvfb\n",
        "    !pip install PyVirtualDisplay==3.0\n",
        "    !pip install gym==0.21.0\n",
        "    from pyvirtualdisplay import Display\n",
        "    \n",
        "    # Start virtual display\n",
        "    dis = Display(visible=0, size=(400, 400))\n",
        "    dis.start()"
      ],
      "metadata": {
        "id": "KtRw868MHSEj",
        "outputId": "e1a98a46-a775-4a99-9665-52745364cbef",
        "colab": {
          "base_uri": "https://localhost:8080/"
        }
      },
      "execution_count": 18,
      "outputs": [
        {
          "output_type": "stream",
          "name": "stdout",
          "text": [
            "Reading package lists... Done\n",
            "Building dependency tree       \n",
            "Reading state information... Done\n",
            "python-opengl is already the newest version (3.1.0+dfsg-1).\n",
            "The following package was automatically installed and is no longer required:\n",
            "  libnvidia-common-460\n",
            "Use 'apt autoremove' to remove it.\n",
            "0 upgraded, 0 newly installed, 0 to remove and 49 not upgraded.\n",
            "Reading package lists... Done\n",
            "Building dependency tree       \n",
            "Reading state information... Done\n",
            "ffmpeg is already the newest version (7:3.4.11-0ubuntu0.1).\n",
            "The following package was automatically installed and is no longer required:\n",
            "  libnvidia-common-460\n",
            "Use 'apt autoremove' to remove it.\n",
            "0 upgraded, 0 newly installed, 0 to remove and 49 not upgraded.\n",
            "Reading package lists... Done\n",
            "Building dependency tree       \n",
            "Reading state information... Done\n",
            "xvfb is already the newest version (2:1.19.6-1ubuntu4.11).\n",
            "The following package was automatically installed and is no longer required:\n",
            "  libnvidia-common-460\n",
            "Use 'apt autoremove' to remove it.\n",
            "0 upgraded, 0 newly installed, 0 to remove and 49 not upgraded.\n",
            "Looking in indexes: https://pypi.org/simple, https://us-python.pkg.dev/colab-wheels/public/simple/\n",
            "Requirement already satisfied: PyVirtualDisplay==3.0 in /usr/local/lib/python3.7/dist-packages (3.0)\n",
            "Looking in indexes: https://pypi.org/simple, https://us-python.pkg.dev/colab-wheels/public/simple/\n",
            "Requirement already satisfied: gym==0.21.0 in /usr/local/lib/python3.7/dist-packages (0.21.0)\n",
            "Requirement already satisfied: cloudpickle>=1.2.0 in /usr/local/lib/python3.7/dist-packages (from gym==0.21.0) (1.3.0)\n",
            "Requirement already satisfied: importlib-metadata>=4.8.1 in /usr/local/lib/python3.7/dist-packages (from gym==0.21.0) (4.12.0)\n",
            "Requirement already satisfied: numpy>=1.18.0 in /usr/local/lib/python3.7/dist-packages (from gym==0.21.0) (1.21.6)\n",
            "Requirement already satisfied: typing-extensions>=3.6.4 in /usr/local/lib/python3.7/dist-packages (from importlib-metadata>=4.8.1->gym==0.21.0) (4.1.1)\n",
            "Requirement already satisfied: zipp>=0.5 in /usr/local/lib/python3.7/dist-packages (from importlib-metadata>=4.8.1->gym==0.21.0) (3.8.1)\n"
          ]
        }
      ]
    },
    {
      "cell_type": "code",
      "execution_count": 19,
      "metadata": {
        "id": "DPWjJiOZ2uVd"
      },
      "outputs": [],
      "source": [
        "import os\n",
        "from typing import Dict, List, Tuple\n",
        "\n",
        "import gym\n",
        "import matplotlib.pyplot as plt\n",
        "import numpy as np\n",
        "import torch\n",
        "import torch.nn as nn\n",
        "import torch.nn.functional as F\n",
        "import torch.optim as optim\n",
        "from IPython.display import clear_output,HTML, display\n",
        "import base64\n",
        "import glob\n",
        "import io"
      ]
    },
    {
      "cell_type": "markdown",
      "source": [
        "## Network\n",
        "\n",
        "We are going to use a simple network architecture with three fully connected layers and two non-linearity functions (ReLU)."
      ],
      "metadata": {
        "id": "hyKWUadCZASY"
      }
    },
    {
      "cell_type": "code",
      "source": [
        "### Create a neural network class \n",
        "class Network(nn.Module):\n",
        "    def __init__(self, in_dim: int, out_dim: int,num_hn: int):\n",
        "        \"\"\"Initialization.\"\"\"\n",
        "        super(Network, self).__init__()\n",
        "\n",
        "        self.layers = nn.Sequential(\n",
        "            nn.Linear(in_dim, num_hn), \n",
        "            nn.ReLU(),\n",
        "            nn.Linear(num_hn, num_hn), \n",
        "            nn.ReLU(),\n",
        "            nn.Linear(num_hn, out_dim)\n",
        "        )\n",
        "\n",
        "    def forward(self, x: torch.Tensor) -> torch.Tensor:\n",
        "        \"\"\"Forward method implementation.\"\"\"\n",
        "        return self.layers(x)"
      ],
      "metadata": {
        "id": "KVleneWxZqGq"
      },
      "execution_count": 20,
      "outputs": []
    },
    {
      "cell_type": "markdown",
      "source": [
        "## Replay buffer\n",
        "\n",
        "Typically, people implement replay buffers with one of the following three data structures:\n",
        "\n",
        "  - collections.deque\n",
        "  - list\n",
        "  - numpy.ndarray\n",
        "  \n",
        "**deque** is very easy to handle once you initialize its maximum length (e.g. deque(maxlen=buffer_size)). However, the indexing operation of deque gets terribly slow as it grows up because it is [internally doubly linked list](https://wiki.python.org/moin/TimeComplexity#collections.deque). On the other hands, **list** is an array, so it is relatively faster than deque when you sample batches at every step. Its amortized cost of  *Get item* is [O(1)](https://wiki.python.org/moin/TimeComplexity#list).\n",
        "\n",
        "Last but not least, let's see **numpy.ndarray**. numpy.ndarray is even faster than list due to the fact that it is [a homogeneous array of fixed-size items](https://docs.scipy.org/doc/numpy/reference/generated/numpy.ndarray.html#numpy.ndarray), so you can get the benefits of [locality of reference](https://en.wikipedia.org/wiki/Locality_of_reference). Whereas list is an array of pointers to objects, even when all of them are of the same type.\n",
        "\n",
        "Here, we are going to implement a replay buffer using numpy.ndarray.\n",
        "\n",
        "\n",
        "Reference: [OpenAI spinning-up](https://github.com/openai/spinningup/blob/master/spinup/algos/sac/sac.py#L10)"
      ],
      "metadata": {
        "id": "rj0SrJzkY5xY"
      }
    },
    {
      "cell_type": "code",
      "execution_count": 21,
      "metadata": {
        "id": "7CsaVrbA2uVp"
      },
      "outputs": [],
      "source": [
        "#Create ReplayBuffer Class\n",
        "class ReplayBuffer:\n",
        "    \"\"\"A simple numpy replay buffer.\"\"\"\n",
        "\n",
        "    def __init__(self, obs_dim: int, size: int, batch_size: int = 32):\n",
        "        self.obs_buf = np.zeros([size, obs_dim], dtype=np.float32)\n",
        "        self.next_obs_buf = np.zeros([size, obs_dim], dtype=np.float32)\n",
        "        self.acts_buf = np.zeros([size], dtype=np.float32)\n",
        "        self.rews_buf = np.zeros([size], dtype=np.float32)\n",
        "        self.done_buf = np.zeros(size, dtype=np.float32)\n",
        "        self.max_size, self.batch_size = size, batch_size\n",
        "        self.ptr, self.size, = 0, 0\n",
        "\n",
        "    def store(\n",
        "        self,\n",
        "        obs: np.ndarray,\n",
        "        act: np.ndarray, \n",
        "        rew: float, \n",
        "        next_obs: np.ndarray, \n",
        "        done: bool,\n",
        "    ):\n",
        "        self.obs_buf[self.ptr] = obs\n",
        "        self.next_obs_buf[self.ptr] = next_obs\n",
        "        self.acts_buf[self.ptr] = act\n",
        "        self.rews_buf[self.ptr] = rew\n",
        "        self.done_buf[self.ptr] = done\n",
        "        self.ptr = (self.ptr + 1) % self.max_size\n",
        "        self.size = min(self.size + 1, self.max_size)\n",
        "\n",
        "    def sample_batch(self) -> Dict[str, np.ndarray]:\n",
        "        idxs = np.random.choice(self.size, size=self.batch_size, replace=False)\n",
        "        return dict(obs=self.obs_buf[idxs],\n",
        "                    next_obs=self.next_obs_buf[idxs],\n",
        "                    acts=self.acts_buf[idxs],\n",
        "                    rews=self.rews_buf[idxs],\n",
        "                    done=self.done_buf[idxs])\n",
        "\n",
        "    def __len__(self) -> int:\n",
        "        return self.size"
      ]
    },
    {
      "cell_type": "markdown",
      "source": [
        "## DQN Agent\n",
        "\n",
        "Here is a summary of DQNAgent class.\n",
        "\n",
        "| Method           | Note                                                 |\n",
        "| ---              | ---                                                  |\n",
        "|select_action     | select an action from the input state.               |\n",
        "|step              | take an action and return the response of the env.   |\n",
        "|compute_dqn_loss  | return dqn loss.                                     |\n",
        "|update_model      | update the model by gradient descent.                |\n",
        "|target_hard_update| hard update from the local model to the target model.|\n",
        "|train             | train the agent during num_frames.                   |\n",
        "|test              | test the agent (1 episode).                          |\n",
        "|plot              | plot the training progresses.                        |\n"
      ],
      "metadata": {
        "id": "dx9OyOhCZKL4"
      }
    },
    {
      "cell_type": "code",
      "source": [
        "# Create DQNAgent class \n",
        "class DQNAgent:\n",
        "    \"\"\"DQN Agent interacting with environment.\n",
        "    \n",
        "    Attribute:\n",
        "        env (gym.Env): openAI Gym environment\n",
        "        memory (ReplayBuffer): replay memory to store transitions\n",
        "        batch_size (int): batch size for sampling\n",
        "        epsilon (float): parameter for epsilon greedy policy\n",
        "        epsilon_decay (float): step size to decrease epsilon\n",
        "        max_epsilon (float): max value of epsilon\n",
        "        min_epsilon (float): min value of epsilon\n",
        "        target_update (int): period for target model's hard update\n",
        "        gamma (float): discount factor\n",
        "        dqn (Network): model to train and select actions\n",
        "        dqn_target (Network): target model to update\n",
        "        optimizer (torch.optim): optimizer for training dqn\n",
        "        transition (list): transition information including \n",
        "                           state, action, reward, next_state, done\n",
        "    \"\"\"\n",
        "\n",
        "    def __init__(\n",
        "        self, \n",
        "        env: gym.Env,\n",
        "        num_hidden_nodes:int,\n",
        "        memory_size: int,\n",
        "        batch_size: int,\n",
        "        target_update: int,\n",
        "        epsilon_decay: float,\n",
        "        max_epsilon: float = 1.0,\n",
        "        min_epsilon: float = 0.1,\n",
        "        gamma: float = 0.99,\n",
        "    ):\n",
        "        \"\"\"Initialization.\n",
        "        \n",
        "        Args:\n",
        "            env (gym.Env): openAI Gym environment\n",
        "            memory_size (int): length of memory\n",
        "            batch_size (int): batch size for sampling\n",
        "            target_update (int): period for target model's hard update\n",
        "            epsilon_decay (float): step size to decrease epsilon\n",
        "            lr (float): learning rate\n",
        "            max_epsilon (float): max value of epsilon\n",
        "            min_epsilon (float): min value of epsilon\n",
        "            gamma (float): discount factor\n",
        "        \"\"\"\n",
        "        obs_dim = env.observation_space.shape[0]\n",
        "        action_dim = env.action_space.n\n",
        "        \n",
        "        self.env = env\n",
        "        self.memory = ReplayBuffer(obs_dim, memory_size, batch_size)\n",
        "        self.batch_size = batch_size\n",
        "        self.epsilon = max_epsilon\n",
        "        self.epsilon_decay = epsilon_decay\n",
        "        self.max_epsilon = max_epsilon\n",
        "        self.min_epsilon = min_epsilon\n",
        "        self.target_update = target_update\n",
        "        self.gamma = gamma\n",
        "        \n",
        "        # device: cpu / gpu\n",
        "        self.device = torch.device(\n",
        "            \"cuda\" if torch.cuda.is_available() else \"cpu\"\n",
        "        )\n",
        "        print(self.device)\n",
        "\n",
        "        # networks: dqn, dqn_target\n",
        "        self.dqn = Network(obs_dim, action_dim,num_hidden_nodes).to(self.device)\n",
        "        self.dqn_target = Network(obs_dim, action_dim,num_hidden_nodes).to(self.device)\n",
        "        self.dqn_target.load_state_dict(self.dqn.state_dict())\n",
        "        self.dqn_target.eval()\n",
        "        print('params',self.dqn.parameters())\n",
        "        # optimizer\n",
        "        self.optimizer = optim.Adam(self.dqn.parameters(),lr=0.001)\n",
        "\n",
        "        # transition to store in memory\n",
        "        self.transition = list()\n",
        "        \n",
        "        # mode: train / test\n",
        "        self.is_test = False\n",
        "\n",
        "    def select_action(self, state: np.ndarray) -> np.ndarray:\n",
        "        \"\"\"Select an action from the input state.\"\"\"\n",
        "        # epsilon greedy policy\n",
        "        if self.epsilon > np.random.random():\n",
        "            selected_action = self.env.action_space.sample()\n",
        "        else:\n",
        "            selected_action = self.dqn(\n",
        "                torch.FloatTensor(state).to(self.device)\n",
        "            ).argmax()\n",
        "            selected_action = selected_action.detach().cpu().numpy()\n",
        "        \n",
        "        if not self.is_test:\n",
        "            self.transition = [state, selected_action]\n",
        "        \n",
        "        return selected_action\n",
        "\n",
        "    def step(self, action: np.ndarray) -> Tuple[np.ndarray, np.float64, bool]:\n",
        "        \"\"\"Take an action and return the response of the env.\"\"\"\n",
        "        next_state, reward, done, _ = self.env.step(action)\n",
        "\n",
        "        if not self.is_test:\n",
        "            self.transition += [reward, next_state, done]\n",
        "            self.memory.store(*self.transition)\n",
        "    \n",
        "        return next_state, reward, done\n",
        "\n",
        "    def update_model(self) -> torch.Tensor:\n",
        "        \"\"\"Update the model by gradient descent.\"\"\"\n",
        "        samples = self.memory.sample_batch()\n",
        "\n",
        "        loss = self._compute_dqn_loss(samples)\n",
        "\n",
        "        self.optimizer.zero_grad()\n",
        "        loss.backward()\n",
        "        self.optimizer.step()\n",
        "\n",
        "        return loss.item()\n",
        "        \n",
        "    def train(self, num_frames: int, plotting_interval: int = 200):\n",
        "        \"\"\"Train the agent.\"\"\"\n",
        "        self.is_test = False\n",
        "        \n",
        "        state = self.env.reset()\n",
        "        update_cnt = 0\n",
        "        epsilons = []\n",
        "        losses = []\n",
        "        scores = []\n",
        "        score = 0\n",
        "\n",
        "        for frame_idx in range(1, num_frames + 1):\n",
        "            action = self.select_action(state)\n",
        "            next_state, reward, done = self.step(action)\n",
        "\n",
        "            state = next_state\n",
        "            score += reward\n",
        "\n",
        "            # if episode ends\n",
        "            if done:\n",
        "                state = self.env.reset()\n",
        "                scores.append(score)\n",
        "                score = 0\n",
        "\n",
        "            # if training is ready\n",
        "            if len(self.memory) >= self.batch_size:\n",
        "                loss = self.update_model()\n",
        "                losses.append(loss)\n",
        "                update_cnt += 1\n",
        "                \n",
        "                # linearly decrease epsilon\n",
        "                self.epsilon = max(\n",
        "                    self.min_epsilon, self.epsilon - (\n",
        "                        self.max_epsilon - self.min_epsilon\n",
        "                    ) * self.epsilon_decay\n",
        "                )\n",
        "                epsilons.append(self.epsilon)\n",
        "                \n",
        "                # if hard update is needed\n",
        "                if update_cnt % self.target_update == 0:\n",
        "                    self._target_hard_update()\n",
        "\n",
        "            # plotting\n",
        "            if frame_idx % plotting_interval == 0:\n",
        "                self._plot(frame_idx, scores, losses, epsilons)\n",
        "                \n",
        "        self.env.close()\n",
        "                \n",
        "    def test(self, video_folder: str) -> None:\n",
        "        \"\"\"Test the agent.\"\"\"\n",
        "        self.is_test = True\n",
        "        \n",
        "        # for recording a video\n",
        "        naive_env = self.env\n",
        "        self.env = gym.wrappers.RecordVideo(self.env, video_folder=video_folder)\n",
        "        \n",
        "        state = self.env.reset()\n",
        "        done = False\n",
        "        score = 0\n",
        "        \n",
        "        while not done:\n",
        "            action = self.select_action(state)\n",
        "            next_state, reward, done = self.step(action)\n",
        "\n",
        "            state = next_state\n",
        "            score += reward\n",
        "        \n",
        "        print(\"score: \", score)\n",
        "        self.env.close()\n",
        "        \n",
        "        # reset\n",
        "        self.env = naive_env\n",
        "\n",
        "    def _compute_dqn_loss(self, samples: Dict[str, np.ndarray]) -> torch.Tensor:\n",
        "        \"\"\"Return dqn loss.\"\"\"\n",
        "        device = self.device  # for shortening the following lines\n",
        "        state = torch.FloatTensor(samples[\"obs\"]).to(device)\n",
        "        next_state = torch.FloatTensor(samples[\"next_obs\"]).to(device)\n",
        "        action = torch.LongTensor(samples[\"acts\"].reshape(-1, 1)).to(device)\n",
        "        reward = torch.FloatTensor(samples[\"rews\"].reshape(-1, 1)).to(device)\n",
        "        done = torch.FloatTensor(samples[\"done\"].reshape(-1, 1)).to(device)\n",
        "\n",
        "        # G_t   = r + gamma * v(s_{t+1})  if state != Terminal\n",
        "        #       = r                       otherwise\n",
        "        curr_q_value = self.dqn(state).gather(1, action)\n",
        "        next_q_value = self.dqn_target(\n",
        "            next_state\n",
        "        ).max(dim=1, keepdim=True)[0].detach()\n",
        "        mask = 1 - done\n",
        "        target = (reward + self.gamma * next_q_value * mask).to(self.device)\n",
        "        # print(target)\n",
        "        # calculate dqn loss\n",
        "        loss = F.smooth_l1_loss(curr_q_value, target)\n",
        "\n",
        "        return loss\n",
        "\n",
        "    def _target_hard_update(self):\n",
        "        \"\"\"Hard update: target <- local.\"\"\"\n",
        "        self.dqn_target.load_state_dict(self.dqn.state_dict())\n",
        "                \n",
        "    def _plot(\n",
        "        self, \n",
        "        frame_idx: int, \n",
        "        scores: List[float], \n",
        "        losses: List[float], \n",
        "        epsilons: List[float],\n",
        "    ):\n",
        "        \"\"\"Plot the training progresses.\"\"\"\n",
        "        clear_output(True)\n",
        "        plt.figure(figsize=(20, 5))\n",
        "        plt.subplot(131)\n",
        "        plt.title('frame %s. score: %s' % (frame_idx, np.mean(scores[-10:])))\n",
        "        plt.plot(scores)\n",
        "        plt.subplot(132)\n",
        "        plt.title('loss')\n",
        "        plt.plot(losses)\n",
        "        plt.subplot(133)\n",
        "        plt.title('epsilons')\n",
        "        plt.plot(epsilons)\n",
        "        plt.show()"
      ],
      "metadata": {
        "id": "YVbtpCYqZGv7"
      },
      "execution_count": 22,
      "outputs": []
    },
    {
      "cell_type": "markdown",
      "source": [
        "#Create the environment"
      ],
      "metadata": {
        "id": "if11YIXAf_dG"
      }
    },
    {
      "cell_type": "code",
      "execution_count": 23,
      "metadata": {
        "id": "uFZuVbZz2uVq"
      },
      "outputs": [],
      "source": [
        "# set the environment\n",
        "env_id = \"CartPole-v0\"\n",
        "env = gym.make(env_id)"
      ]
    },
    {
      "cell_type": "markdown",
      "source": [
        "#Set parameters for experiment"
      ],
      "metadata": {
        "id": "8yoJpvcXgCEL"
      }
    },
    {
      "cell_type": "code",
      "execution_count": 28,
      "metadata": {
        "id": "yianM-dx2uVn"
      },
      "outputs": [],
      "source": [
        "# create params\n",
        "num_frames = 10000\n",
        "memory_size = 1000\n",
        "batch_size = 32\n",
        "target_update = 100\n",
        "epsilon_decay = 1 / 2000\n",
        "num_hidden_nodes=128\n",
        "video_folder=\"videos\"\n"
      ]
    },
    {
      "cell_type": "code",
      "source": [
        "#Initialize the agent using the DQN class\n",
        "agent = DQNAgent(env,num_hidden_nodes, memory_size, batch_size, target_update, epsilon_decay)"
      ],
      "metadata": {
        "id": "VUt0odA2kuSl",
        "outputId": "3feccc1b-ed5d-4d4f-8751-34c1d39c9c9f",
        "colab": {
          "base_uri": "https://localhost:8080/"
        }
      },
      "execution_count": 29,
      "outputs": [
        {
          "output_type": "stream",
          "name": "stdout",
          "text": [
            "cpu\n",
            "params <generator object Module.parameters at 0x7fc6da90abd0>\n"
          ]
        }
      ]
    },
    {
      "cell_type": "markdown",
      "source": [
        "#Train"
      ],
      "metadata": {
        "id": "BPu85nk2ZfJa"
      }
    },
    {
      "cell_type": "code",
      "execution_count": 30,
      "metadata": {
        "id": "azVNSMYa2uVq",
        "colab": {
          "base_uri": "https://localhost:8080/",
          "height": 278
        },
        "outputId": "93176a22-eb14-41ce-c2ee-699cb072fcfa"
      },
      "outputs": [
        {
          "output_type": "display_data",
          "data": {
            "text/plain": [
              "<Figure size 1440x360 with 3 Axes>"
            ],
            "image/png": "[encoded data removed]"
          },
          "metadata": {
            "needs_background": "light"
          }
        }
      ],
      "source": [
        "# train the agent\n",
        "agent.train(num_frames)"
      ]
    },
    {
      "cell_type": "markdown",
      "source": [
        "#Test the network and export video of agent's actions"
      ],
      "metadata": {
        "id": "oUsgqvzyZh8q"
      }
    },
    {
      "cell_type": "code",
      "execution_count": 31,
      "metadata": {
        "id": "EomjmDOb2uVn",
        "colab": {
          "base_uri": "https://localhost:8080/"
        },
        "outputId": "11ea55ab-2754-420f-89e8-12126297b570"
      },
      "outputs": [
        {
          "output_type": "stream",
          "name": "stderr",
          "text": [
            "/usr/local/lib/python3.7/dist-packages/gym/wrappers/record_video.py:42: UserWarning: \u001b[33mWARN: Overwriting existing videos at /content/videos folder (try specifying a different `video_folder` for the `RecordVideo` wrapper if this is not desired)\u001b[0m\n",
            "  f\"Overwriting existing videos at {self.video_folder} folder (try specifying a different `video_folder` for the `RecordVideo` wrapper if this is not desired)\"\n"
          ]
        },
        {
          "output_type": "stream",
          "name": "stdout",
          "text": [
            "score:  159.0\n"
          ]
        }
      ],
      "source": [
        "# create the video_folder var\n",
        "agent.test(video_folder=video_folder)"
      ]
    },
    {
      "cell_type": "code",
      "source": [
        "## create the functions to display the test video in colab\n",
        "\n",
        "\n",
        "def ipython_show_video(path: str) -> None:\n",
        "    \"\"\"Show a video at `path` within IPython Notebook.\"\"\"\n",
        "    if not os.path.isfile(path):\n",
        "        raise NameError(\"Cannot access: {}\".format(path))\n",
        "\n",
        "    video = io.open(path, \"r+b\").read()\n",
        "    encoded = base64.b64encode(video)\n",
        "\n",
        "    display(HTML(\n",
        "        data=\"\"\"\n",
        "        <video width=\"320\" height=\"240\" alt=\"test\" controls>\n",
        "        <source src=\"data:video/mp4;base64,{0}\" type=\"video/mp4\"/>\n",
        "        </video>\n",
        "        \"\"\".format(encoded.decode(\"ascii\"))\n",
        "    ))\n",
        "\n",
        "\n",
        "def show_latest_video(video_folder: str) -> str:\n",
        "    \"\"\"Show the most recently recorded video from video folder.\"\"\"\n",
        "    list_of_files = glob.glob(os.path.join(video_folder, \"*.mp4\"))\n",
        "    latest_file = max(list_of_files, key=os.path.getctime)\n",
        "    ipython_show_video(latest_file)\n",
        "    return latest_file\n",
        "\n",
        "\n",
        "latest_file = show_latest_video(video_folder=video_folder)\n",
        "print(\"Played:\", latest_file)"
      ],
      "metadata": {
        "colab": {
          "base_uri": "https://localhost:8080/",
          "height": 280
        },
        "id": "sTQ7xo9DZUKb",
        "outputId": "e9344f18-59fc-4b59-b7f8-16633fe0fb4f"
      },
      "execution_count": 27,
      "outputs": [
        {
          "output_type": "display_data",
          "data": {
            "text/plain": [
              "<IPython.core.display.HTML object>"
            ],
            "text/html": [
              "\n",
              "        <video width=\"320\" height=\"240\" alt=\"test\" controls>\n",
              "        <source src=\"data:video/mp4;base64,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\" type=\"video/mp4\"/>\n",
              "        </video>\n",
              "        "
            ]
          },
          "metadata": {}
        },
        {
          "output_type": "stream",
          "name": "stdout",
          "text": [
            "Played: videos/rl-video-episode-0.mp4\n"
          ]
        }
      ]
    },
    {
      "cell_type": "code",
      "source": [
        ""
      ],
      "metadata": {
        "id": "zJM-hU0bjg3Z"
      },
      "execution_count": 27,
      "outputs": []
    }
  ],
  "metadata": {
    "kernelspec": {
      "display_name": "Python 3",
      "name": "python3"
    },
    "language_info": {
      "name": "python"
    },
    "colab": {
      "name": "lesson-04.solutions.ipynb",
      "provenance": [],
      "collapsed_sections": []
    },
    "gpuClass": "standard"
  },
  "nbformat": 4,
  "nbformat_minor": 0
}
