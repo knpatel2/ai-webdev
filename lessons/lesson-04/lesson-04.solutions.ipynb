{
  "cells": [
    {
      "cell_type": "markdown",
      "source": [
        "<center><h1>AI in Web Development</h1></center>\n",
        "\n",
        "---\n",
        "\n",
        "<center><h2>Lesson 04</h2></center>\n",
        "\n",
        "\n",
        "[![Open In Colab](https://colab.research.google.com/assets/colab-badge.svg)](https://colab.research.google.com/github/snsie/ai-webdev/blob/main/lessons/lesson-04/lesson-04.solutions.ipynb)"
      ],
      "metadata": {
        "id": "IPgoWtoIJQOi"
      }
    },
    {
      "cell_type": "markdown",
      "source": [
        "This notebook is based on [this example](https://colab.research.google.com/github/Curt-Park/rainbow-is-all-you-need/blob/master/01.dqn.ipynb)\n",
        "and [this example](https://colab.research.google.com/github/ehennis/ReinforcementLearning/blob/master/05-DQN.ipynb#scrollTo=DPWjJiOZ2uVd)  \n"
      ],
      "metadata": {
        "id": "KPb9IjzQmKOU"
      }
    },
    {
      "cell_type": "markdown",
      "metadata": {
        "id": "Pf4_QpE72uVZ"
      },
      "source": [
        "<h1 align=\"center\">Reinforcement Learning (RL)</h1>"
      ]
    },
    {
      "cell_type": "markdown",
      "source": [
        "<center><img src=\"https://github.com/snsie/ai-webdev/blob/main/images/what-is-reinforcement-learning.png?raw=true\" width='320px'/></center>\n"
      ],
      "metadata": {
        "id": "VqGHxllEo3h7"
      }
    },
    {
      "cell_type": "markdown",
      "source": [
        "###Environment\n",
        "  * The stage that contains the simulation\n",
        "\n",
        "<br/>\n",
        "\n",
        "###Agent\n",
        "  * The entity making decisions\n",
        "  * Can be represented as a neural network\n",
        "\n",
        "<br/>\n",
        "\n",
        "###States\n",
        "* Set of observations that agents that can be performed by the agent\n",
        "* example: agent's position\n",
        "\n",
        "<br/>\n",
        "\n",
        "###Actions\n",
        "* Set of activities that can be performed by the agent\n",
        "* example: move right, move left\n",
        "\n",
        "<br/>\n",
        "\n",
        "###Rewards\n",
        "* Provides agents feedback about their performance\n"
      ],
      "metadata": {
        "id": "sdedL4816Qp5"
      }
    },
    {
      "cell_type": "markdown",
      "source": [
        "<center><h1>Cart Pole Example</h1></center>\n",
        "\n",
        "---\n",
        "\n",
        "<center><h4>the cart's goal: balance the pole</h4></center>\n",
        "\n",
        "\n",
        "[Gym Docs](https://www.gymlibrary.ml/environments/classic_control/cart_pole/)"
      ],
      "metadata": {
        "id": "P12W_YPa09UE"
      }
    },
    {
      "cell_type": "markdown",
      "source": [
        "|Bad Cart          |  Good Cart  |\n",
        "|:-------------------------:|:-------------------------:|\n",
        "| <img src='https://github.com/snsie/ai-webdev/blob/main/images/cartpole-initial.gif?raw=true' width=\"300\"/>  | <img src='https://github.com/snsie/ai-webdev/blob/main/images/cartpole-trained.gif?raw=true' width=\"300\"/> |"
      ],
      "metadata": {
        "id": "A-YYa0w41cqt"
      }
    },
    {
      "cell_type": "markdown",
      "metadata": {
        "id": "Z2Fqe9TO2uVd"
      },
      "source": [
        "<center><h3><u>Actions</u></h3></center>\n",
        "\n",
        "| Num | Action                 |\n",
        "|-----|------------------------|\n",
        "| 0   | Push cart to the left  |\n",
        "| 1   | Push cart to the right |\n",
        "\n",
        "<br/>\n",
        "<br/>\n",
        "\n",
        "<center><h3><u>States</u></h3></center>\n",
        "\n",
        "| Num | Observation           | Min                 | Max               |\n",
        "|-----|-----------------------|:-------------------|:-----------------|\n",
        "| 0   | Cart Position         | -4.8                | 4.8               |\n",
        "| 1   | Cart Velocity         | -Inf                | Inf               |\n",
        "| 2   | Pole Angle            | ~ -0.418 rad (-24°) | ~ 0.418 rad (24°) |\n",
        "| 3   | Pole Angular Velocity | -Inf                | Inf               |\n",
        "\n",
        "<br/>\n",
        "\n",
        "[Cart Pole Python File](https://github.com/openai/gym/blob/master/gym/envs/classic_control/cartpole.py)"
      ]
    },
    {
      "cell_type": "markdown",
      "source": [
        "RL Algorithm to be used in this example:\n",
        "\n",
        "<center><h1>Q-learning</h1></center>\n",
        "\n",
        "<br/>\n",
        "\n",
        "<h4>\n",
        "\\begin{align}\n",
        "Q(s,a) = r(s,a) + \\gamma \\cdot \\max_{a} Q(s',a')\n",
        "\\end{align}\n",
        "</h4>\n",
        "\n",
        "<br/>\n",
        "\n",
        "###$Q(s,a)$ = Q-value\n",
        "\n",
        "###$r(s,a)$ = reward for current action\n",
        "\n",
        "###$\\gamma$ = parameter that scales: $\\max_{a}Q(s',a')$\n",
        "\n",
        "###$\\max_{a}Q(s',a')$ = Maximum Q-value predicted in the next state \n",
        "\n",
        "<br/>\n",
        "\n",
        "---"
      ],
      "metadata": {
        "id": "u1IqACZf-7yG"
      }
    },
    {
      "cell_type": "markdown",
      "source": [
        "<h3>Long term interpretation of Q:</h3>\n",
        "<h3>\n",
        "$$\n",
        "Q(s_t,a_t) = r(t) + \\gamma \\cdot r(t+1) + \\gamma^2 \\cdot r(t+2) +  \\gamma^3 \\cdot r(t+3) \\ ...\n",
        "$$\n",
        "</h3>"
      ],
      "metadata": {
        "id": "EtMh6rUaKpep"
      }
    },
    {
      "cell_type": "markdown",
      "source": [
        "**Reference**  \n",
        "Mnih, V., Kavukcuoglu, K., Silver, D., Rusu, A. A., Veness, J., Bellemare, M. G., ... & Petersen, S. (2015). *Human-level control through deep reinforcement learning*. Nature, 518(7540), 529"
      ],
      "metadata": {
        "id": "vJM_vfH8gSf9"
      }
    },
    {
      "cell_type": "code",
      "source": [
        "import sys\n",
        "IN_COLAB = \"google.colab\" in sys.modules\n",
        "\n",
        "if IN_COLAB:\n",
        "    !apt install python-opengl\n",
        "    !apt install ffmpeg\n",
        "    !apt install xvfb\n",
        "    !pip install PyVirtualDisplay==3.0\n",
        "    !pip install gym==0.21.0\n",
        "    from pyvirtualdisplay import Display\n",
        "    \n",
        "    # Start virtual display\n",
        "    dis = Display(visible=0, size=(400, 400))\n",
        "    dis.start()"
      ],
      "metadata": {
        "id": "KtRw868MHSEj",
        "outputId": "4ea2c962-058c-4350-bd2a-b2940258252c",
        "colab": {
          "base_uri": "https://localhost:8080/"
        }
      },
      "execution_count": 1,
      "outputs": [
        {
          "output_type": "stream",
          "name": "stdout",
          "text": [
            "Reading package lists... Done\n",
            "Building dependency tree       \n",
            "Reading state information... Done\n",
            "python-opengl is already the newest version (3.1.0+dfsg-1).\n",
            "The following package was automatically installed and is no longer required:\n",
            "  libnvidia-common-460\n",
            "Use 'apt autoremove' to remove it.\n",
            "0 upgraded, 0 newly installed, 0 to remove and 49 not upgraded.\n",
            "Reading package lists... Done\n",
            "Building dependency tree       \n",
            "Reading state information... Done\n",
            "ffmpeg is already the newest version (7:3.4.11-0ubuntu0.1).\n",
            "The following package was automatically installed and is no longer required:\n",
            "  libnvidia-common-460\n",
            "Use 'apt autoremove' to remove it.\n",
            "0 upgraded, 0 newly installed, 0 to remove and 49 not upgraded.\n",
            "Reading package lists... Done\n",
            "Building dependency tree       \n",
            "Reading state information... Done\n",
            "xvfb is already the newest version (2:1.19.6-1ubuntu4.11).\n",
            "The following package was automatically installed and is no longer required:\n",
            "  libnvidia-common-460\n",
            "Use 'apt autoremove' to remove it.\n",
            "0 upgraded, 0 newly installed, 0 to remove and 49 not upgraded.\n",
            "Looking in indexes: https://pypi.org/simple, https://us-python.pkg.dev/colab-wheels/public/simple/\n",
            "Requirement already satisfied: PyVirtualDisplay==3.0 in /usr/local/lib/python3.7/dist-packages (3.0)\n",
            "Looking in indexes: https://pypi.org/simple, https://us-python.pkg.dev/colab-wheels/public/simple/\n",
            "Requirement already satisfied: gym==0.21.0 in /usr/local/lib/python3.7/dist-packages (0.21.0)\n",
            "Requirement already satisfied: importlib-metadata>=4.8.1 in /usr/local/lib/python3.7/dist-packages (from gym==0.21.0) (4.12.0)\n",
            "Requirement already satisfied: numpy>=1.18.0 in /usr/local/lib/python3.7/dist-packages (from gym==0.21.0) (1.21.6)\n",
            "Requirement already satisfied: cloudpickle>=1.2.0 in /usr/local/lib/python3.7/dist-packages (from gym==0.21.0) (1.3.0)\n",
            "Requirement already satisfied: zipp>=0.5 in /usr/local/lib/python3.7/dist-packages (from importlib-metadata>=4.8.1->gym==0.21.0) (3.8.1)\n",
            "Requirement already satisfied: typing-extensions>=3.6.4 in /usr/local/lib/python3.7/dist-packages (from importlib-metadata>=4.8.1->gym==0.21.0) (4.1.1)\n"
          ]
        }
      ]
    },
    {
      "cell_type": "code",
      "execution_count": 2,
      "metadata": {
        "id": "DPWjJiOZ2uVd"
      },
      "outputs": [],
      "source": [
        "import os\n",
        "from typing import Dict, List, Tuple\n",
        "\n",
        "import gym\n",
        "import matplotlib.pyplot as plt\n",
        "import numpy as np\n",
        "import torch\n",
        "import torch.nn as nn\n",
        "import torch.nn.functional as F\n",
        "import torch.optim as optim\n",
        "from IPython.display import clear_output,HTML, display\n",
        "import base64\n",
        "import glob\n",
        "import io"
      ]
    },
    {
      "cell_type": "markdown",
      "source": [
        "## Network\n",
        "\n",
        "We are going to use a simple network architecture with three fully connected layers and two non-linearity functions (ReLU)."
      ],
      "metadata": {
        "id": "hyKWUadCZASY"
      }
    },
    {
      "cell_type": "code",
      "source": [
        "### Create a neural network class \n",
        "class Network(nn.Module):\n",
        "    def __init__(self, in_dim: int, out_dim: int,num_hn: int):\n",
        "        \"\"\"Initialization.\"\"\"\n",
        "        super(Network, self).__init__()\n",
        "\n",
        "        self.layers = nn.Sequential(\n",
        "            nn.Linear(in_dim, num_hn), \n",
        "            nn.ReLU(),\n",
        "            nn.Linear(num_hn, num_hn), \n",
        "            nn.ReLU(),\n",
        "            nn.Linear(num_hn, out_dim)\n",
        "        )\n",
        "\n",
        "    def forward(self, x: torch.Tensor) -> torch.Tensor:\n",
        "        \"\"\"Forward method implementation.\"\"\"\n",
        "        return self.layers(x)"
      ],
      "metadata": {
        "id": "KVleneWxZqGq"
      },
      "execution_count": 3,
      "outputs": []
    },
    {
      "cell_type": "markdown",
      "source": [
        "## Replay buffer\n",
        "\n",
        "Typically, people implement replay buffers with one of the following three data structures:\n",
        "\n",
        "  - collections.deque\n",
        "  - list\n",
        "  - numpy.ndarray\n",
        "  \n",
        "**deque** is very easy to handle once you initialize its maximum length (e.g. deque(maxlen=buffer_size)). However, the indexing operation of deque gets terribly slow as it grows up because it is [internally doubly linked list](https://wiki.python.org/moin/TimeComplexity#collections.deque). On the other hands, **list** is an array, so it is relatively faster than deque when you sample batches at every step. Its amortized cost of  *Get item* is [O(1)](https://wiki.python.org/moin/TimeComplexity#list).\n",
        "\n",
        "Last but not least, let's see **numpy.ndarray**. numpy.ndarray is even faster than list due to the fact that it is [a homogeneous array of fixed-size items](https://docs.scipy.org/doc/numpy/reference/generated/numpy.ndarray.html#numpy.ndarray), so you can get the benefits of [locality of reference](https://en.wikipedia.org/wiki/Locality_of_reference). Whereas list is an array of pointers to objects, even when all of them are of the same type.\n",
        "\n",
        "Here, we are going to implement a replay buffer using numpy.ndarray.\n",
        "\n",
        "\n",
        "Reference: [OpenAI spinning-up](https://github.com/openai/spinningup/blob/master/spinup/algos/sac/sac.py#L10)"
      ],
      "metadata": {
        "id": "rj0SrJzkY5xY"
      }
    },
    {
      "cell_type": "code",
      "execution_count": 4,
      "metadata": {
        "id": "7CsaVrbA2uVp"
      },
      "outputs": [],
      "source": [
        "#Create ReplayBuffer Class\n",
        "class ReplayBuffer:\n",
        "    \"\"\"A simple numpy replay buffer.\"\"\"\n",
        "\n",
        "    def __init__(self, obs_dim: int, size: int, batch_size: int = 32):\n",
        "        self.obs_buf = np.zeros([size, obs_dim], dtype=np.float32)\n",
        "        self.next_obs_buf = np.zeros([size, obs_dim], dtype=np.float32)\n",
        "        self.acts_buf = np.zeros([size], dtype=np.float32)\n",
        "        self.rews_buf = np.zeros([size], dtype=np.float32)\n",
        "        self.done_buf = np.zeros(size, dtype=np.float32)\n",
        "        self.max_size, self.batch_size = size, batch_size\n",
        "        self.ptr, self.size, = 0, 0\n",
        "\n",
        "    def store(\n",
        "        self,\n",
        "        obs: np.ndarray,\n",
        "        act: np.ndarray, \n",
        "        rew: float, \n",
        "        next_obs: np.ndarray, \n",
        "        done: bool,\n",
        "    ):\n",
        "        self.obs_buf[self.ptr] = obs\n",
        "        self.next_obs_buf[self.ptr] = next_obs\n",
        "        self.acts_buf[self.ptr] = act\n",
        "        self.rews_buf[self.ptr] = rew\n",
        "        self.done_buf[self.ptr] = done\n",
        "        self.ptr = (self.ptr + 1) % self.max_size\n",
        "        self.size = min(self.size + 1, self.max_size)\n",
        "\n",
        "    def sample_batch(self) -> Dict[str, np.ndarray]:\n",
        "        idxs = np.random.choice(self.size, size=self.batch_size, replace=False)\n",
        "        return dict(obs=self.obs_buf[idxs],\n",
        "                    next_obs=self.next_obs_buf[idxs],\n",
        "                    acts=self.acts_buf[idxs],\n",
        "                    rews=self.rews_buf[idxs],\n",
        "                    done=self.done_buf[idxs])\n",
        "\n",
        "    def __len__(self) -> int:\n",
        "        return self.size"
      ]
    },
    {
      "cell_type": "markdown",
      "source": [
        "## DQN Agent\n",
        "\n",
        "Here is a summary of DQNAgent class.\n",
        "\n",
        "| Method           | Note                                                 |\n",
        "| ---              | ---                                                  |\n",
        "|select_action     | select an action from the input state.               |\n",
        "|step              | take an action and return the response of the env.   |\n",
        "|compute_dqn_loss  | return dqn loss.                                     |\n",
        "|update_model      | update the model by gradient descent.                |\n",
        "|target_hard_update| hard update from the local model to the target model.|\n",
        "|train             | train the agent during num_frames.                   |\n",
        "|test              | test the agent (1 episode).                          |\n",
        "|plot              | plot the training progresses.                        |\n"
      ],
      "metadata": {
        "id": "dx9OyOhCZKL4"
      }
    },
    {
      "cell_type": "code",
      "source": [
        "# Create DQNAgent class \n",
        "class DQNAgent:\n",
        "    \"\"\"DQN Agent interacting with environment.\n",
        "    \n",
        "    Attribute:\n",
        "        env (gym.Env): openAI Gym environment\n",
        "        memory (ReplayBuffer): replay memory to store transitions\n",
        "        batch_size (int): batch size for sampling\n",
        "        epsilon (float): parameter for epsilon greedy policy\n",
        "        epsilon_decay (float): step size to decrease epsilon\n",
        "        max_epsilon (float): max value of epsilon\n",
        "        min_epsilon (float): min value of epsilon\n",
        "        target_update (int): period for target model's hard update\n",
        "        gamma (float): discount factor\n",
        "        dqn (Network): model to train and select actions\n",
        "        dqn_target (Network): target model to update\n",
        "        optimizer (torch.optim): optimizer for training dqn\n",
        "        transition (list): transition information including \n",
        "                           state, action, reward, next_state, done\n",
        "    \"\"\"\n",
        "\n",
        "    def __init__(\n",
        "        self, \n",
        "        env: gym.Env,\n",
        "        num_hidden_nodes:int,\n",
        "        memory_size: int,\n",
        "        batch_size: int,\n",
        "        target_update: int,\n",
        "        epsilon_decay: float,\n",
        "        max_epsilon: float = 1.0,\n",
        "        min_epsilon: float = 0.1,\n",
        "        gamma: float = 0.99,\n",
        "        learning_rate: float=0.001\n",
        "    ):\n",
        "        \"\"\"Initialization.\n",
        "        \n",
        "        Args:\n",
        "            env (gym.Env): openAI Gym environment\n",
        "            memory_size (int): length of memory\n",
        "            batch_size (int): batch size for sampling\n",
        "            target_update (int): period for target model's hard update\n",
        "            epsilon_decay (float): step size to decrease epsilon\n",
        "            lr (float): learning rate\n",
        "            max_epsilon (float): max value of epsilon\n",
        "            min_epsilon (float): min value of epsilon\n",
        "            gamma (float): discount factor\n",
        "        \"\"\"\n",
        "        obs_dim = env.observation_space.shape[0]\n",
        "        action_dim = env.action_space.n\n",
        "        \n",
        "        self.env = env\n",
        "        self.memory = ReplayBuffer(obs_dim, memory_size, batch_size)\n",
        "        self.batch_size = batch_size\n",
        "        self.epsilon = max_epsilon\n",
        "        self.epsilon_decay = epsilon_decay\n",
        "        self.max_epsilon = max_epsilon\n",
        "        self.min_epsilon = min_epsilon\n",
        "        self.target_update = target_update\n",
        "        self.gamma = gamma\n",
        "        \n",
        "        # device: cpu / gpu\n",
        "        self.device = torch.device(\n",
        "            \"cuda\" if torch.cuda.is_available() else \"cpu\"\n",
        "        )\n",
        "        print(self.device)\n",
        "\n",
        "        # networks: dqn, dqn_target\n",
        "        self.dqn = Network(obs_dim, action_dim,num_hidden_nodes).to(self.device)\n",
        "        self.dqn_target = Network(obs_dim, action_dim,num_hidden_nodes).to(self.device)\n",
        "        self.dqn_target.load_state_dict(self.dqn.state_dict())\n",
        "        self.dqn_target.eval()\n",
        "        print('params',self.dqn.parameters())\n",
        "        # optimizer\n",
        "        self.optimizer = optim.Adam(self.dqn.parameters(),lr=learning_rate)\n",
        "\n",
        "        # transition to store in memory\n",
        "        self.transition = list()\n",
        "        \n",
        "        # mode: train / test\n",
        "        self.is_test = False\n",
        "\n",
        "    def select_action(self, state: np.ndarray) -> np.ndarray:\n",
        "        \"\"\"Select an action from the input state.\"\"\"\n",
        "        # epsilon greedy policy\n",
        "        if self.epsilon > np.random.random():\n",
        "            selected_action = self.env.action_space.sample()\n",
        "        else:\n",
        "            selected_action = self.dqn(\n",
        "                torch.FloatTensor(state).to(self.device)\n",
        "            ).argmax()\n",
        "            selected_action = selected_action.detach().cpu().numpy()\n",
        "            \n",
        "        if not self.is_test:\n",
        "            self.transition = [state, selected_action]\n",
        "        \n",
        "        return selected_action\n",
        "\n",
        "    def step(self, action: np.ndarray) -> Tuple[np.ndarray, np.float64, bool]:\n",
        "        \"\"\"Take an action and return the response of the env.\"\"\"\n",
        "        next_state, reward, done, _ = self.env.step(action)\n",
        "\n",
        "        if not self.is_test:\n",
        "            self.transition += [reward, next_state, done]\n",
        "            # print('transiton',self.transition)\n",
        "            self.memory.store(*self.transition)\n",
        "    \n",
        "        return next_state, reward, done\n",
        "\n",
        "    def update_model(self) -> torch.Tensor:\n",
        "        \"\"\"Update the model by gradient descent.\"\"\"\n",
        "        samples = self.memory.sample_batch()\n",
        "\n",
        "        loss = self._compute_dqn_loss(samples)\n",
        "\n",
        "        self.optimizer.zero_grad()\n",
        "        loss.backward()\n",
        "        self.optimizer.step()\n",
        "\n",
        "        return loss.item()\n",
        "        \n",
        "    def train(self, num_frames: int, plotting_interval: int = 200):\n",
        "        \"\"\"Train the agent.\"\"\"\n",
        "        self.is_test = False\n",
        "        \n",
        "        state = self.env.reset()\n",
        "        update_cnt = 0\n",
        "        epsilons = []\n",
        "        predictions = []\n",
        "        # precitionsLeft = []\n",
        "        targets=[]\n",
        "        losses = []\n",
        "        scores = []\n",
        "        score = 0\n",
        "\n",
        "        for frame_idx in range(1, num_frames + 1):\n",
        "            action = self.select_action(state)\n",
        "            next_state, reward, done = self.step(action)\n",
        "\n",
        "            state = next_state\n",
        "            score += reward\n",
        "\n",
        "            # if episode ends\n",
        "            if done:\n",
        "                state = self.env.reset()\n",
        "                scores.append(score)\n",
        "                score = 0\n",
        "\n",
        "            # if training is ready\n",
        "            if len(self.memory) >= self.batch_size:\n",
        "                loss = self.update_model()\n",
        "                losses.append(loss)\n",
        "                # targets.append(target)\n",
        "                update_cnt += 1\n",
        "                \n",
        "                predict = self.dqn(\n",
        "                torch.FloatTensor(state).to(self.device)\n",
        "                ).detach().tolist()\n",
        "                predictions.append(predict)\n",
        "                \n",
        "                self.epsilon = max(\n",
        "                    self.min_epsilon, self.epsilon - (\n",
        "                        self.max_epsilon - self.min_epsilon\n",
        "                    ) * self.epsilon_decay\n",
        "                )\n",
        "              \n",
        "                epsilons.append(self.epsilon)\n",
        "                \n",
        "                # if hard update is needed\n",
        "                if update_cnt % self.target_update == 0:\n",
        "                    self._target_hard_update()\n",
        "\n",
        "            # plotting\n",
        "            if frame_idx % plotting_interval == 0:\n",
        "                self._plot(frame_idx, scores, losses, epsilons,predictions)\n",
        "                \n",
        "        self.env.close()\n",
        "                \n",
        "    def test(self, video_folder: str) -> None:\n",
        "        \"\"\"Test the agent.\"\"\"\n",
        "        self.is_test = True\n",
        "        \n",
        "        # for recording a video\n",
        "        naive_env = self.env\n",
        "        self.env = gym.wrappers.RecordVideo(self.env, video_folder=video_folder)\n",
        "        \n",
        "        state = self.env.reset()\n",
        "        done = False\n",
        "        score = 0\n",
        "        \n",
        "        while not done:\n",
        "            action = self.select_action(state)\n",
        "            next_state, reward, done = self.step(action)\n",
        "\n",
        "            state = next_state\n",
        "            score += reward\n",
        "        print(\"score: \", score)\n",
        "        self.env.close()\n",
        "        \n",
        "        # reset\n",
        "        self.env = naive_env\n",
        "\n",
        "    def _compute_dqn_loss(self, samples: Dict[str, np.ndarray]) -> torch.Tensor:\n",
        "        \"\"\"Return dqn loss.\"\"\"\n",
        "        device = self.device  # for shortening the following lines\n",
        "        state = torch.FloatTensor(samples[\"obs\"]).to(device)\n",
        "        next_state = torch.FloatTensor(samples[\"next_obs\"]).to(device)\n",
        "        action = torch.LongTensor(samples[\"acts\"].reshape(-1, 1)).to(device)\n",
        "        reward = torch.FloatTensor(samples[\"rews\"].reshape(-1, 1)).to(device)\n",
        "        done = torch.FloatTensor(samples[\"done\"].reshape(-1, 1)).to(device)\n",
        "\n",
        "        # G_t   = r + gamma * v(s_{t+1})  if state != Terminal\n",
        "        #       = r                       otherwise\n",
        "        curr_q_value = self.dqn(state).gather(1, action)\n",
        "        next_q_value = self.dqn_target(\n",
        "            next_state\n",
        "        ).max(dim=1, keepdim=True)[0].detach()\n",
        "        mask = 1 - done\n",
        "        # mask=1\n",
        "        target = (reward + self.gamma * next_q_value * mask).to(self.device)\n",
        "        # targetForPlot = (reward + self.gamma * next_q_value * mask)\n",
        "        \n",
        "        # calculate dqn loss\n",
        "        loss = F.smooth_l1_loss(curr_q_value, target)\n",
        "        return loss\n",
        "\n",
        "    def _target_hard_update(self):\n",
        "        \"\"\"Hard update: target <- local.\"\"\"\n",
        "        self.dqn_target.load_state_dict(self.dqn.state_dict())\n",
        "                \n",
        "    def _plot(\n",
        "        self, \n",
        "        frame_idx: int, \n",
        "        scores: List[float], \n",
        "        losses: List[float], \n",
        "        epsilons: List[float],\n",
        "        predictions: List[float],\n",
        "    ):\n",
        "          \n",
        "        \"\"\"Plot the training progresses.\"\"\"\n",
        "        clear_output(True)\n",
        "        # print(targets)\n",
        "        plt.figure(figsize=(20, 5))\n",
        "        plt.subplot(141)\n",
        "        plt.title('frame %s. score: %s' % (frame_idx, np.mean(scores[-10:])))\n",
        "        plt.plot(scores)\n",
        "        plt.subplot(142)\n",
        "        plt.title('loss')\n",
        "        plt.plot(losses)\n",
        "        plt.subplot(143)\n",
        "        plt.title('epsilons')\n",
        "        plt.plot(epsilons)\n",
        "        plt.subplot(144)\n",
        "        plt.title('predictions')\n",
        "        plt.plot(predictions)\n",
        "        plt.show()"
      ],
      "metadata": {
        "id": "YVbtpCYqZGv7"
      },
      "execution_count": 5,
      "outputs": []
    },
    {
      "cell_type": "markdown",
      "source": [
        "#Create the environment"
      ],
      "metadata": {
        "id": "if11YIXAf_dG"
      }
    },
    {
      "cell_type": "code",
      "execution_count": 6,
      "metadata": {
        "id": "uFZuVbZz2uVq"
      },
      "outputs": [],
      "source": [
        "# set the environment\n",
        "env_id = \"CartPole-v0\"\n",
        "env = gym.make(env_id)"
      ]
    },
    {
      "cell_type": "markdown",
      "source": [
        "#Set parameters for experiment"
      ],
      "metadata": {
        "id": "8yoJpvcXgCEL"
      }
    },
    {
      "cell_type": "code",
      "execution_count": 7,
      "metadata": {
        "id": "yianM-dx2uVn"
      },
      "outputs": [],
      "source": [
        "# create params\n",
        "num_frames = 50000\n",
        "memory_size = 1000\n",
        "gamma=0.99\n",
        "batch_size = 32\n",
        "target_update = 100\n",
        "epsilon_decay = 1 / 2000\n",
        "num_hidden_nodes=128\n",
        "video_folder=\"videos\"\n",
        "learning_rate=0.001"
      ]
    },
    {
      "cell_type": "code",
      "source": [
        "#Initialize the agent using the DQN class\n",
        "agent = DQNAgent(env,num_hidden_nodes, memory_size=memory_size, batch_size= batch_size, target_update=target_update, epsilon_decay= epsilon_decay,gamma=gamma,learning_rate=learning_rate)"
      ],
      "metadata": {
        "id": "VUt0odA2kuSl",
        "outputId": "bb6c6d76-e342-4499-9745-8e0636d69a35",
        "colab": {
          "base_uri": "https://localhost:8080/"
        }
      },
      "execution_count": 8,
      "outputs": [
        {
          "output_type": "stream",
          "name": "stdout",
          "text": [
            "cpu\n",
            "params <generator object Module.parameters at 0x7f5585c4f4d0>\n"
          ]
        }
      ]
    },
    {
      "cell_type": "markdown",
      "source": [
        "#Train"
      ],
      "metadata": {
        "id": "BPu85nk2ZfJa"
      }
    },
    {
      "cell_type": "code",
      "execution_count": 9,
      "metadata": {
        "id": "azVNSMYa2uVq",
        "colab": {
          "base_uri": "https://localhost:8080/",
          "height": 336
        },
        "outputId": "b29ba0eb-8b92-491a-d29d-65af32b39eae"
      },
      "outputs": [
        {
          "output_type": "display_data",
          "data": {
            "text/plain": [
              "<Figure size 1440x360 with 4 Axes>"
            ],
            "image/png": "[encoded data removed]"
          },
          "metadata": {
            "needs_background": "light"
          }
        }
      ],
      "source": [
        "# train the agent\n",
        "\n",
        "agent.train(num_frames)"
      ]
    },
    {
      "cell_type": "markdown",
      "source": [
        "#Test the network and export video of agent's actions"
      ],
      "metadata": {
        "id": "oUsgqvzyZh8q"
      }
    },
    {
      "cell_type": "code",
      "execution_count": 10,
      "metadata": {
        "id": "EomjmDOb2uVn",
        "outputId": "205d16d8-740d-42c7-86e4-5661f5431852",
        "colab": {
          "base_uri": "https://localhost:8080/"
        }
      },
      "outputs": [
        {
          "output_type": "stream",
          "name": "stderr",
          "text": [
            "/usr/local/lib/python3.7/dist-packages/gym/wrappers/record_video.py:42: UserWarning: \u001b[33mWARN: Overwriting existing videos at /content/videos folder (try specifying a different `video_folder` for the `RecordVideo` wrapper if this is not desired)\u001b[0m\n",
            "  f\"Overwriting existing videos at {self.video_folder} folder (try specifying a different `video_folder` for the `RecordVideo` wrapper if this is not desired)\"\n"
          ]
        },
        {
          "output_type": "stream",
          "name": "stdout",
          "text": [
            "score:  200.0\n"
          ]
        }
      ],
      "source": [
        "# create the video_folder var\n",
        "agent.test(video_folder=video_folder)"
      ]
    },
    {
      "cell_type": "code",
      "source": [
        "## create the functions to display the test video in colab\n",
        "\n",
        "\n",
        "def ipython_show_video(path: str) -> None:\n",
        "    \"\"\"Show a video at `path` within IPython Notebook.\"\"\"\n",
        "    if not os.path.isfile(path):\n",
        "        raise NameError(\"Cannot access: {}\".format(path))\n",
        "\n",
        "    video = io.open(path, \"r+b\").read()\n",
        "    encoded = base64.b64encode(video)\n",
        "\n",
        "    display(HTML(\n",
        "        data=\"\"\"\n",
        "        <video width=\"320\" height=\"240\" alt=\"test\" controls>\n",
        "        <source src=\"data:video/mp4;base64,{0}\" type=\"video/mp4\"/>\n",
        "        </video>\n",
        "        \"\"\".format(encoded.decode(\"ascii\"))\n",
        "    ))\n",
        "\n",
        "\n",
        "def show_latest_video(video_folder: str) -> str:\n",
        "    \"\"\"Show the most recently recorded video from video folder.\"\"\"\n",
        "    list_of_files = glob.glob(os.path.join(video_folder, \"*.mp4\"))\n",
        "    latest_file = max(list_of_files, key=os.path.getctime)\n",
        "    ipython_show_video(latest_file)\n",
        "    return latest_file\n",
        "\n",
        "\n",
        "latest_file = show_latest_video(video_folder=video_folder)\n",
        "print(\"Played:\", latest_file)"
      ],
      "metadata": {
        "id": "sTQ7xo9DZUKb",
        "outputId": "53f3753a-f082-471d-89d1-5fe2318834a7",
        "colab": {
          "base_uri": "https://localhost:8080/",
          "height": 280
        }
      },
      "execution_count": 11,
      "outputs": [
        {
          "output_type": "display_data",
          "data": {
            "text/plain": [
              "<IPython.core.display.HTML object>"
            ],
            "text/html": [
              "\n",
              "        <video width=\"320\" height=\"240\" alt=\"test\" controls>\n",
              "        <source src=\"data:video/mp4;base64,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\" type=\"video/mp4\"/>\n",
              "        </video>\n",
              "        "
            ]
          },
          "metadata": {}
        },
        {
          "output_type": "stream",
          "name": "stdout",
          "text": [
            "Played: videos/rl-video-episode-0.mp4\n"
          ]
        }
      ]
    },
    {
      "cell_type": "code",
      "source": [
        "state = [0,0,0,0]\n",
        "predictions=agent.dqn(\n",
        "                torch.FloatTensor(state).to(agent.device)\n",
        "            ).detach().tolist()\n",
        "\n",
        "print(predictions)"
      ],
      "metadata": {
        "id": "zJM-hU0bjg3Z",
        "outputId": "4b053bfc-0ea2-4cb2-8b38-3507c0e96cd5",
        "colab": {
          "base_uri": "https://localhost:8080/"
        }
      },
      "execution_count": 12,
      "outputs": [
        {
          "output_type": "stream",
          "name": "stdout",
          "text": [
            "[103.77017974853516, 103.74527740478516]\n"
          ]
        }
      ]
    },
    {
      "cell_type": "code",
      "source": [
        "# def\n",
        "x=np.linspace(0,200,201)\n",
        "y=0\n",
        "gamma=0.99\n",
        "ys=[]\n",
        "for currX in x:\n",
        "  y+=gamma**currX\n",
        "  ys.append(y)\n",
        "\n",
        "plt.plot(x,ys)\n",
        "plt.show()"
      ],
      "metadata": {
        "id": "a37ZSeu3EeCt",
        "outputId": "cebfb654-4bbe-4358-f645-c946095bfba5",
        "colab": {
          "base_uri": "https://localhost:8080/",
          "height": 265
        }
      },
      "execution_count": 18,
      "outputs": [
        {
          "output_type": "display_data",
          "data": {
            "text/plain": [
              "<Figure size 432x288 with 1 Axes>"
            ],
            "image/png": "[encoded data removed]"
          },
          "metadata": {
            "needs_background": "light"
          }
        }
      ]
    },
    {
      "cell_type": "code",
      "source": [
        ""
      ],
      "metadata": {
        "id": "sxd2ml4jV2hd"
      },
      "execution_count": 14,
      "outputs": []
    }
  ],
  "metadata": {
    "kernelspec": {
      "display_name": "Python 3",
      "name": "python3"
    },
    "language_info": {
      "name": "python"
    },
    "colab": {
      "name": "lesson-04.solutions.ipynb",
      "provenance": [],
      "collapsed_sections": []
    },
    "gpuClass": "standard"
  },
  "nbformat": 4,
  "nbformat_minor": 0
}